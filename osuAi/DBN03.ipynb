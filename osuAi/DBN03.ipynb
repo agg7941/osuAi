{
 "cells": [
  {
   "cell_type": "code",
   "execution_count": 1,
   "id": "765471ec",
   "metadata": {},
   "outputs": [],
   "source": [
    "import time\n",
    "import numpy as np"
   ]
  },
  {
   "cell_type": "markdown",
   "id": "067d2fb5-f398-4c11-a4a3-46e489b3d727",
   "metadata": {
    "tags": []
   },
   "source": [
    "# Audio utils"
   ]
  },
  {
   "cell_type": "code",
   "execution_count": 2,
   "id": "7e034bba-31f2-446d-b0fe-731aed363579",
   "metadata": {
    "tags": []
   },
   "outputs": [],
   "source": [
    "from abc import abstractmethod"
   ]
  },
  {
   "cell_type": "code",
   "execution_count": 3,
   "id": "a46f41ef-a733-425e-8c44-1da087f1727b",
   "metadata": {
    "tags": []
   },
   "outputs": [],
   "source": [
    "class FeatureModule(object):\n",
    "    \n",
    "    def __init__(self, sample_rate, hop_length, num_channels=1, decibels=True):\n",
    "        self.sample_rate = sample_rate\n",
    "        self.hop_length = hop_length\n",
    "        self.num_channels = num_channels\n",
    "        self.decibels = decibels\n",
    "        \n",
    "    def get_expected_frames(self, audio):\n",
    "         # Simply the number of hops plus one\n",
    "        num_frames = 1 + len(audio) // self.hop_length\n",
    "        return num_frames\n",
    "    \n",
    "    def get_sample_range(self, num_frames):\n",
    "         # Calculate the boundaries\n",
    "        max_samples = num_frames * self.hop_length - 1\n",
    "        min_samples = max(1, max_samples - self.hop_length + 1)\n",
    "\n",
    "        # Construct an array ranging between the minimum and maximum number of samples\n",
    "        sample_range = np.arange(min_samples, max_samples + 1)\n",
    "        return sample_range\n",
    "    \n",
    "    @abstractmethod\n",
    "    def process_audio(self, audio):\n",
    "        return NotImplementedError\n",
    "    \n",
    "    def to_decibels(self, feats):\n",
    "        feats = librosa.core.amplitude_to_db(feats, ref=np.max)\n",
    "        return feats\n",
    "\n",
    "    def post_proc(self, feats):\n",
    "        if self.decibels:\n",
    "            # Convert to decibels (dB)\n",
    "            feats = self.to_decibels(feats)\n",
    "\n",
    "            # TODO - make additional variable for 0/1 scaling\n",
    "            # Assuming range of -80 to 0 dB, scale between 0 and 1\n",
    "            feats = feats / 80\n",
    "            feats = feats + 1\n",
    "        else:\n",
    "            # TODO - should anything be done here? - would I ever not want decibels?\n",
    "            pass\n",
    "\n",
    "        # Add a channel dimension\n",
    "        feats = np.expand_dims(feats, axis=0)\n",
    "        return feats\n",
    "    \n",
    "    def get_times(self, audio):\n",
    "        num_frames = self.get_expected_frames(audio)\n",
    "\n",
    "        frame_idcs = np.arange(num_frames + 1)\n",
    "        # Obtain the time of the first sample of each frame\n",
    "        times = librosa.frames_to_time(frames=frame_idcs,\n",
    "                                       sr=self.sample_rate,\n",
    "                                       hop_length=self.hop_length)\n",
    "        return times\n",
    "    \n",
    "    def get_sample_rate(self):\n",
    "        sample_rate = self.sample_rate\n",
    "        return sample_rate\n",
    "\n",
    "    def get_hop_length(self):\n",
    "        hop_length = self.hop_length\n",
    "        return hop_length\n",
    "\n",
    "    def get_num_channels(self):\n",
    "        num_channels = self.num_channels\n",
    "        return num_channels\n",
    "\n",
    "    @classmethod\n",
    "    def features_name(cls):\n",
    "         return cls.__name__"
   ]
  },
  {
   "cell_type": "markdown",
   "id": "7a2746b1-bb24-4d76-b5d8-7e9445b76ba3",
   "metadata": {},
   "source": [
    "## patch madmom import error with sed"
   ]
  },
  {
   "cell_type": "raw",
   "id": "02c9c4b4-30dd-45d2-8754-673f6fac54a7",
   "metadata": {},
   "source": [
    "---------------------------------------------------------------------------\n",
    "ImportError                               Traceback (most recent call last)\n",
    "Input In [4], in <cell line: 1>()\n",
    "----> 1 from madmom.audio.signal import SignalProcessor, FramedSignalProcessor\n",
    "      2 from madmom.audio.stft import ShortTimeFourierTransformProcessor\n",
    "      3 from madmom.audio.spectrogram import (\n",
    "      4     FilteredSpectrogramProcessor, LogarithmicSpectrogramProcessor,\n",
    "      5     SpectrogramDifferenceProcessor)\n",
    "\n",
    "File ~/proj/osuAi/hitNet/.env/lib/python3.10/site-packages/madmom/__init__.py:24, in <module>\n",
    "     21 import pkg_resources\n",
    "     23 # import all packages\n",
    "---> 24 from . import audio, evaluation, features, io, ml, models, processors, utils\n",
    "     26 # define a version variable\n",
    "     27 __version__ = pkg_resources.get_distribution(\"madmom\").version\n",
    "\n",
    "File ~/proj/osuAi/hitNet/.env/lib/python3.10/site-packages/madmom/audio/__init__.py:27, in <module>\n",
    "     24 from __future__ import absolute_import, division, print_function\n",
    "     26 # import the submodules\n",
    "---> 27 from . import comb_filters, filters, signal, spectrogram, stft\n",
    "     28 # import classes used often\n",
    "     29 from .chroma import DeepChromaProcessor\n",
    "\n",
    "File madmom/audio/comb_filters.pyx:15, in init madmom.audio.comb_filters()\n",
    "\n",
    "File ~/proj/osuAi/hitNet/.env/lib/python3.10/site-packages/madmom/processors.py:23, in <module>\n",
    "     21 import os\n",
    "     22 import sys\n",
    "---> 23 from collections import MutableSequence\n",
    "     25 import numpy as np\n",
    "     27 from .utils import integer_types\n",
    "\n",
    "ImportError: cannot import name 'MutableSequence' from 'collections' (/home/poi/proj/osuAi/hitNet/.env/lib/python3.10/collections/__init__.py)"
   ]
  },
  {
   "cell_type": "raw",
   "id": "d3add800-6e93-41b9-b8b0-41df5ae5b109",
   "metadata": {},
   "source": [
    "!sed -i 's/from collections import MutableSequence/from collections.abc import MutableSequence/' .env/lib/python3.10/site-packages/madmom/processors.py"
   ]
  },
  {
   "cell_type": "code",
   "execution_count": 4,
   "id": "6bc24281-ab3b-4b6f-9a99-abde9d1461f3",
   "metadata": {
    "tags": []
   },
   "outputs": [],
   "source": [
    "from madmom.audio.signal import SignalProcessor, FramedSignalProcessor\n",
    "from madmom.audio.stft import ShortTimeFourierTransformProcessor\n",
    "from madmom.audio.spectrogram import (\n",
    "    FilteredSpectrogramProcessor, LogarithmicSpectrogramProcessor,\n",
    "    SpectrogramDifferenceProcessor)\n",
    "from madmom.processors import ParallelProcessor, SequentialProcessor"
   ]
  },
  {
   "cell_type": "code",
   "execution_count": 5,
   "id": "17f13e24-ef9d-4691-82e4-9ff1835c2ac3",
   "metadata": {
    "tags": []
   },
   "outputs": [],
   "source": [
    "class LOG_SPECT(FeatureModule):\n",
    "    def __init__(self, num_channels=1, sample_rate=22050, win_length=2048, hop_size=512, n_bands=[12], mode='online'):\n",
    "        sig = SignalProcessor(num_channels=num_channels, win_length=win_length, sample_rate=sample_rate)\n",
    "        self.sample_rate = sample_rate\n",
    "        self.hop_length = hop_size\n",
    "        self.num_channels = num_channels\n",
    "        multi = ParallelProcessor([])\n",
    "        frame_sizes = [win_length]  \n",
    "        num_bands = n_bands  \n",
    "        for frame_size, num_bands in zip(frame_sizes, num_bands):\n",
    "            if mode == 'online' or mode == 'offline':\n",
    "                frames = FramedSignalProcessor(frame_size=frame_size, hop_size=hop_size) \n",
    "            else:   # for real-time and streaming modes \n",
    "                frames = FramedSignalProcessor(frame_size=frame_size, hop_size=hop_size, num_frames=4) \n",
    "            stft = ShortTimeFourierTransformProcessor()  # caching FFT window\n",
    "            filt = FilteredSpectrogramProcessor(\n",
    "                num_bands=num_bands, fmin=30, fmax=17000, norm_filters=True)\n",
    "            spec = LogarithmicSpectrogramProcessor(mul=1, add=1)\n",
    "            diff = SpectrogramDifferenceProcessor(\n",
    "                diff_ratio=0.5, positive_diffs=True, stack_diffs=np.hstack)\n",
    "            # process each frame size with spec and diff sequentially\n",
    "            multi.append(SequentialProcessor((frames, stft, filt, spec, diff)))\n",
    "        # stack the features and processes everything sequentially\n",
    "        self.pipe = SequentialProcessor((sig, multi, np.hstack))\n",
    "\n",
    "    def process_audio(self, audio):\n",
    "        feats = self.pipe(audio)\n",
    "        return feats.T"
   ]
  },
  {
   "cell_type": "markdown",
   "id": "e95a2668-9feb-454e-a34e-b6a54e75f3e1",
   "metadata": {
    "tags": []
   },
   "source": [
    "# Beatmap utils"
   ]
  },
  {
   "cell_type": "code",
   "execution_count": 6,
   "id": "b28442f2-89b4-4226-b9ef-2217cedba5c7",
   "metadata": {
    "tags": []
   },
   "outputs": [],
   "source": [
    "import re\n",
    "import os\n",
    "import torch\n",
    "import math\n",
    "import scipy.io.wavfile as wav\n",
    "import subprocess"
   ]
  },
  {
   "cell_type": "code",
   "execution_count": 7,
   "id": "aa638aaa-4eb6-43f3-9742-beb7f4e730c4",
   "metadata": {},
   "outputs": [],
   "source": [
    "class Beatmap():    \n",
    "    \n",
    "    def __init__(self, beatmap_dir, beatmap, proc, sample_rate=22050, tmp='./wav/', \n",
    "                 peak_type='gaussian', hop_size=512, width=4, single_beat_channel=False):\n",
    "        self.beatmap = beatmap\n",
    "        self.beatmap_dir = beatmap_dir\n",
    "        self.sample_rate = sample_rate\n",
    "        self.proc = proc\n",
    "        self.tmp = tmp\n",
    "        self.wavf = None\n",
    "        self.audiof = None\n",
    "        self.rate = int(sample_rate / hop_size)\n",
    "        self.w = width\n",
    "        self.single_beat_channel = single_beat_channel\n",
    "    \n",
    "        self.timestamp = []\n",
    "        self.beat_len = []\n",
    "        self.BeatDivisor = None\n",
    "        self.frames = None # [data]\n",
    "        self.beats = None # [gt]\n",
    "        self.downs = None\n",
    "        self.m = None # [metadata]\n",
    "        \n",
    "        peaks = {\n",
    "            'gaussian': self.create_gaussian_peak, \n",
    "            'linear': self.create_linear_peak, \n",
    "            'parabolic': self.create_parabolic_peak\n",
    "        }\n",
    "        self.create_peak = peaks[peak_type]\n",
    "        \n",
    "    def parse_audiof(self):\n",
    "        f = open(os.path.join(self.beatmap_dir, self.beatmap))\n",
    "        for l in f:\n",
    "            if re.match(r'AudioFilename.*', l):\n",
    "                self.audiof = re.search('AudioFilename:\\s*(.*)', l).group(1)\n",
    "        f.close()\n",
    "        \n",
    "        if not os.path.exists(self.audiof):\n",
    "            for f in os.listdir(self.beatmap_dir):\n",
    "                if re.match(self.audiof, f, flags=re.IGNORECASE):\n",
    "                    self.audiof = f\n",
    "        \n",
    "    def get_audiof(self):\n",
    "        if self.audiof == None:\n",
    "            self.parse_audiof()\n",
    "        return self.audiof\n",
    "        \n",
    "    def parse_ids(self):\n",
    "        f = open(os.path.join(self.beatmap_dir, self.beatmap))\n",
    "        for l in f:\n",
    "            if re.match(r'BeatmapID.*',  l):\n",
    "                self.BeatmapID = re.search('BeatmapID:\\s*(\\d+).*', l).group(1)\n",
    "            if re.match(r'BeatmapSetID.*', l):\n",
    "                self.eatmapSetID = re.search('BeatmapSetID:\\s*(\\d+).*', l).group(1)\n",
    "        if 'BeatmapSetID' not in locals():\n",
    "            self.BeatmapSetID = self.beatmap_dir.split('/')[-1].split(' ')[0]\n",
    "        if 'BeatmapID' not in locals():\n",
    "            self.BeatmapID = self.beatmap_dir.split('/')[-1].split(' ')[0]\n",
    "        f.close()\n",
    "            \n",
    "    def parse_wav(self):\n",
    "        self.parse_ids();\n",
    "        self.wavf = str(self.BeatmapSetID) + '-' + str(self.BeatmapID) + '.wav'\n",
    "        \n",
    "    def create_wav(self):\n",
    "        self.parse_wav()\n",
    "        mp3 = os.path.join(self.beatmap_dir, self.get_audiof())\n",
    "        wav = os.path.join(self.tmp, self.wavf)\n",
    "        subprocess.call(['ffmpeg', '-hide_banner', '-loglevel', 'error', '-y', \n",
    "                         '-i', mp3, '-ar', str(self.sample_rate), wav])\n",
    "        \n",
    "    def get_wav(self):\n",
    "        if self.wavf == None:\n",
    "            self.parse_wav()\n",
    "            if not os.path.exists(os.path.join(self.tmp, self.wavf)):\n",
    "                self.create_wav()\n",
    "        return self.wavf\n",
    "                \n",
    "    def parse_beatmap(self):\n",
    "        rate, audio_data = wav.read(os.path.join(self.tmp, self.get_wav()))\n",
    "        audio_len = np.shape(audio_data)[0]\n",
    "        f = open(os.path.join(self.beatmap_dir, self.beatmap))\n",
    "        \n",
    "        for l in f:\n",
    "            if re.match(r'BeatDivisor.*', l):\n",
    "                self.BeatDivisor = re.search('BeatDivisor:\\s*(\\d+).*', l).group(1)\n",
    "                self.BeatDivisor = int(self.BeatDivisor)\n",
    "                break\n",
    "        for l in f:\n",
    "            if re.match(r'\\[TimingPoints\\]', l):\n",
    "                break\n",
    "        for l in f:\n",
    "            if l == \"\\n\":\n",
    "                break\n",
    "            a = l.split(',')\n",
    "            if float(a[1]) < 0:\n",
    "                continue\n",
    "            self.beat_len.append(float(a[1]))\n",
    "            self.timestamp.append(float(a[0])) \n",
    "        self.timestamp.append(int(audio_len / rate * 1000))\n",
    "        f.close()\n",
    "    \n",
    "    def process_audio(self):\n",
    "        feats = self.proc.process_audio(os.path.join(self.beatmap_dir, self.get_audiof()))\n",
    "        feats = torch.tensor(feats)\n",
    "        self.frames = torch.transpose(feats, 0, 1)\n",
    "        \n",
    "    def create_gaussian_peak(self, y, i):\n",
    "        alen = len(y)\n",
    "        w = self.w/2/2\n",
    "        \n",
    "        def func(x):\n",
    "            return math.exp(-j**2/w**2)\n",
    "        \n",
    "        j = 0 \n",
    "        while i+j > 0 and abs(j) <= w*2:\n",
    "            f = func(j)\n",
    "            y[i+j] = max(y[i+j], f, 0)\n",
    "            j -= 1\n",
    "        j = 0\n",
    "        while i+j < alen and abs(j) <= w*2:\n",
    "            f = func(j)\n",
    "            y[i+j] = max(y[i+j], f, 0)\n",
    "            j += 1\n",
    "            \n",
    "    def create_parabolic_peak(self, y, i):\n",
    "        alen = len(y)\n",
    "        limit = self.w*2\n",
    "        w = self.w\n",
    "\n",
    "        def func(x):\n",
    "            return -(1/w**2 * x**2) + 1\n",
    "\n",
    "        j = 0        \n",
    "        while i+j > 0 and abs(j) <= limit:\n",
    "            f = func(j)\n",
    "            y[i+j] = max(y[i+j], f, 0)\n",
    "            j -= 1\n",
    "        j = 0\n",
    "        while i+j < alen and abs(j) <= limit:\n",
    "            f = func(j)\n",
    "            y[i+j] = max(y[i+j], f, 0)\n",
    "            j += 1\n",
    "            \n",
    "    def create_linear_peak(self, y, i):\n",
    "        alen = len(y)\n",
    "        w = self.w/2\n",
    "        m = 1/w\n",
    "        limit = w\n",
    "        \n",
    "        def func(x):\n",
    "            return m*x + 1\n",
    "        \n",
    "        j=0\n",
    "        while i+j > 0 and abs(j) <= limit:\n",
    "            f = func(j)\n",
    "            y[i+j] = max(y[i+j], f, 0)\n",
    "            j -= 1\n",
    "        m = -m\n",
    "        j = 0\n",
    "        while i+j < alen and abs(j) <= limit:\n",
    "            f = func(j)\n",
    "            y[i+j] = max(y[i+j], f, 0)\n",
    "            j += 1  \n",
    "    \n",
    "    def process_beats(self):\n",
    "        if len(self.timestamp) == 0:\n",
    "            self.parse_beatmap()\n",
    "        self.beats = np.zeros(math.ceil(self.timestamp[-1] * 0.001 * self.rate), dtype=np.float32)\n",
    "        self.downs = np.zeros(math.ceil(self.timestamp[-1] * 0.001 * self.rate), dtype=np.float32)\n",
    "        \n",
    "        d = 0\n",
    "        i = self.timestamp[0] * 0.001 * self.rate\n",
    "        while i > 0:\n",
    "            x = round(i)\n",
    "            self.create_peak(self.beats, x)\n",
    "            if d % self.BeatDivisor == 0:\n",
    "                self.create_peak(self.downs, x)\n",
    "            i -= self.beat_len[0] * 0.001 * self.rate\n",
    "            d -= 1\n",
    "        \n",
    "        for j in range(len(self.timestamp) - 1):\n",
    "            i = self.timestamp[j] * 0.001 * self.rate\n",
    "            d = 0\n",
    "            while i < (self.timestamp[j+1] * 0.001 * self.rate):\n",
    "                x = round(i)\n",
    "                self.create_peak(self.beats, x)\n",
    "                if d % self.BeatDivisor == 0:\n",
    "                    self.create_peak(self.downs, x)\n",
    "                i += self.beat_len[j] * 0.001 * self.rate\n",
    "                d += 1\n",
    "            if i >= self.timestamp[-1] * 0.001 * self.rate:\n",
    "                break\n",
    "                    \n",
    "    def get_audio(self):\n",
    "        if self.frames == None:\n",
    "            self.process_audio()\n",
    "        return self.frames\n",
    "    \n",
    "    def get_beats(self):\n",
    "        if self.beats == None:\n",
    "            self.process_beats()\n",
    "        if self.single_beat_channel == True:\n",
    "            concat = np.add(self.beats, self.downs)\n",
    "            concat = np.divide(concat, 2)\n",
    "            return torch.tensor(concat)\n",
    "        else:\n",
    "            return torch.tensor(np.stack((self.beats, self.downs), axis=1))\n",
    "    \n",
    "    def get_metadata(self):\n",
    "        if self.BeatDivisor == None:\n",
    "            self.parse_beatmap()\n",
    "        return (self.beatmap, self.rate, self.BeatDivisor)\n",
    "    \n",
    "    def get_timings(self):\n",
    "        if len(self.timestamp) == 0:\n",
    "            self.parse_beatmap()\n",
    "        return list(zip(self.timestamp, self.beat_len))"
   ]
  },
  {
   "cell_type": "markdown",
   "id": "f7ce9bb8-753a-4ee0-b4db-0346797d95bb",
   "metadata": {},
   "source": [
    "# Dataset"
   ]
  },
  {
   "cell_type": "code",
   "execution_count": 8,
   "id": "48232f45-3510-4640-80f4-f6af0d957f54",
   "metadata": {},
   "outputs": [],
   "source": [
    "import glob\n",
    "import copy\n",
    "import gc\n",
    "import concurrent.futures\n",
    "import traceback\n",
    "import torch\n",
    "from torch.utils.data import Dataset"
   ]
  },
  {
   "cell_type": "code",
   "execution_count": 9,
   "id": "480c8b13",
   "metadata": {},
   "outputs": [],
   "source": [
    "class Beatmap_Dataset(Dataset):  \n",
    "    \n",
    "    def __init__(self, beatmap_dir, proc, seq_dur=10, sample_rate=22050, hop_size=512, width=4, \n",
    "                 peak_type='gaussian', single_beat_channel=False, threads=4, threading=True):\n",
    "        self.beatmap_dir = beatmap_dir\n",
    "        self.proc = proc\n",
    "        self.sample_rate = sample_rate\n",
    "        self.hop_size = hop_size\n",
    "        self.beatmaps = []\n",
    "        self.seq_len = int(seq_dur * sample_rate / hop_size)\n",
    "        self.width = width\n",
    "        \n",
    "        if beatmap_dir == None:\n",
    "            self.x = []\n",
    "            self.y = []\n",
    "            self.m = []\n",
    "            return\n",
    "        \n",
    "        j = 0\n",
    "        for r, dirs, _ in os.walk(beatmap_dir):\n",
    "            for dir in dirs:\n",
    "                for root, _, files in os.walk(os.path.join(r, dir)):\n",
    "                    for f in files:\n",
    "                        if re.match('.*.osu$', f):\n",
    "                            self.beatmaps.append(Beatmap(root, f, proc, sample_rate=sample_rate, \n",
    "                                                         hop_size=hop_size, width=width, peak_type=peak_type, single_beat_channel=single_beat_channel))\n",
    "                            j += 1\n",
    "                                            \n",
    "        self.x = [None] * j\n",
    "        self.y = [None] * j\n",
    "        self.t = [None] * j\n",
    "        self.m = [None] * j\n",
    "\n",
    "        def process(i):\n",
    "            m = self.beatmaps[i]\n",
    "            self.beatmaps[i] = None\n",
    "            try:\n",
    "                print(str(i) + '/' + str(j-1), m.beatmap)            \n",
    "                self.x[i] = copy.deepcopy(m.get_audio())\n",
    "                self.y[i] = copy.deepcopy(m.get_beats())\n",
    "                self.t[i] = copy.deepcopy(m.get_timings())\n",
    "                self.m[i] = copy.deepcopy(m.get_metadata())\n",
    "            except Exception as e:\n",
    "                traceback.print_exc()\n",
    "                print(\"pruning:\", m.beatmap)     \n",
    "                self.x[i] = None\n",
    "                self.y[i] = None\n",
    "                self.t[i] = None\n",
    "                self.m[i] = None\n",
    "            del m\n",
    "            gc.collect()\n",
    "\n",
    "        if threading:\n",
    "            executor = concurrent.futures.ThreadPoolExecutor(threads)\n",
    "            list(executor.map(process, range(j)))\n",
    "        else:\n",
    "            list(map(process, range(j)))\n",
    "                        \n",
    "        self.beatmaps = list(filter(None, self.beatmaps))\n",
    "        self.x = list(filter(lambda x: x != None, self.x))\n",
    "        self.y = list(filter(lambda x: x != None, self.y))\n",
    "        self.t = list(filter(None, self.t))\n",
    "        self.m = list(filter(None, self.m))\n",
    "        \n",
    "    def take(self, ds, i, j):\n",
    "        self.x = ds.x[i:j]\n",
    "        self.y = ds.y[i:j]\n",
    "        self.m = ds.m[i:j]\n",
    "        self.t = ds.t[i:j]\n",
    "        \n",
    "    def __len__(self):\n",
    "        return len(self.x)\n",
    "    \n",
    "    def __getitem__(self, i):\n",
    "        if self.seq_len == 0:\n",
    "            return self.x[i], self.y[i], self.j[i]\n",
    "        j = np.random.randint(0, self.y[i].shape[0] - self.seq_len)\n",
    "        return self.x[i][j: j+self.seq_len], self.y[i][j: j+self.seq_len], self.t[i][0], (self.m[i], i, j)"
   ]
  },
  {
   "cell_type": "code",
   "execution_count": 10,
   "id": "979809d9-50cf-435a-b506-083b63e323dd",
   "metadata": {
    "tags": []
   },
   "outputs": [
    {
     "name": "stdout",
     "output_type": "stream",
     "text": [
      "0/91/9 TMABird - Everybody's Circulation (Vncegd) [Normal].osu\n",
      " TMABird - Everybody's Circulation (Vncegd) [Very Easy].osu\n",
      "2/9 TMABird - Everybody's Circulation (Vncegd) [Hard (new)].osu\n",
      "3/9 TMABird - Everybody's Circulation (Vncegd) [Easy (new)].osu\n",
      "4/9 TMABird - Everybody's Circulation (Vncegd) [Insane].osu\n",
      "5/9 TMABird - Everybody's Circulation (Vncegd) [Easy].osu\n",
      "6/9 TMABird - Everybody's Circulation (Vncegd) [Hard].osu\n",
      "7/9 TMABird - Everybody's Circulation (Vncegd) [Expert].osu\n",
      "8/9 TMABird - Everybody's Circulation (Vncegd) [Normal (new)].osu\n",
      "9/9 LamazeP - Spam Jack (OsuToothbrush) [SPAM].osu\n"
     ]
    }
   ],
   "source": [
    "# debug\n",
    "log_spect = LOG_SPECT(sample_rate=44100, hop_size=441*2, n_bands=[24], mode='offline')\n",
    "s = Beatmap_Dataset('../ex/beatmaps', log_spect, sample_rate=44100, hop_size=441*2, width=2, peak_type='linear', threading=True)"
   ]
  },
  {
   "cell_type": "markdown",
   "id": "2dfd0e79-2378-4faa-946a-ed57682ef736",
   "metadata": {},
   "source": [
    "# Constants"
   ]
  },
  {
   "cell_type": "code",
   "execution_count": 10,
   "id": "78fba18b-15b4-4fb5-8bd0-a2ccdfaeb437",
   "metadata": {},
   "outputs": [],
   "source": [
    "sample_rate = 44100\n",
    "hop_size = 441 * 2\n",
    "seq_dur = 10\n",
    "peak_type = 'gaussian'\n",
    "width = 4\n",
    "single_beat_channel = True\n",
    "\n",
    "beatmap_dir = '../beatmaps'\n",
    "ds_path = './datasets/DBN/ds_' + peak_type + '.pkl'\n",
    "model_path = './models/DBN/model_' + peak_type + '.pt'"
   ]
  },
  {
   "cell_type": "markdown",
   "id": "f30c40eb-10ab-4af7-ae81-4ddbd6db6771",
   "metadata": {},
   "source": [
    "# Process Data"
   ]
  },
  {
   "cell_type": "code",
   "execution_count": 16,
   "id": "7e8a193f-eb40-436e-b8a8-058951f59d27",
   "metadata": {
    "collapsed": true,
    "jupyter": {
     "outputs_hidden": true
    },
    "tags": []
   },
   "outputs": [
    {
     "name": "stdout",
     "output_type": "stream",
     "text": [
      "0/1511 Chata - Engage (Lasse) [Insane].osu\n",
      "1/1511 2/1511 sana - kanojo wa tabi ni deru (Firika) [Insane].osu\n",
      "Mimi - Surrealism (feat. ZAT) (-Tatsuo) [no mania].osu\n",
      "3/1511 4/1511 StylipS - Prism Sympathy(Asterisk Remix) (iMage--) [Kaleid Liner].osu\n",
      "Ishida Youko - To the Promised Sky ~The place that I was~ (caren) [Collabo].osu\n",
      "5/1511 Cranky - Chandelier - King (Mao) [Gero's Insane].osu\n",
      "6/1511 senya - Akatsuki no Suiheisen ni (Satellite) [Zweib's Insane].osu\n",
      "7/1511 Tadokoro Azusa - 1HOPE SNIPER (Sotarks) [NiNo's Insane].osu\n",
      "8/15119/1511 cYsmix - bells! (Gero) [normal!].osu\n",
      " fripSide - future gazer (TV Size) (alacat) [Insane].osu10/1511\n",
      " Yazawa Nico (CV.Tokui Sora) - Nicopuri Joshidou (yf_bmp) [z1085684963's Insane].osu\n",
      "11/1511 Hamburgaga - Watame Internet Connection Race (CE6A) [Insane].osu\n",
      "12/1511 xi - Parousia -LAST JUDGMENT- (Zapy) [Retribution].osu\n",
      "13/1511 Shiena Nishizawa - Meaning (Taeyang) [xChippy's Insane].osu\n",
      "14/1511 namirin - Hitokoto no Kyori (sahuang) [Linadeft's Insane].osu\n",
      "15/1511 Narushima - Gothic and Loneliness (Kotayu) [Despair].osu\n",
      "16/1511 SUPERSONICO - cat's dance (wcx19911123) [Normal].osu\n",
      "17/1511 gmtn. (witch's slave) - furioso melodia (Alumetorz) [Wrath].osu\n",
      "18/1511 19/1511 mimimemeMIMI - Sayonara Usotsuki (TV Size) (Present) [Insane].osu\n",
      "BillmaZter - Lolimaster (Ranzel) [Another].osu\n",
      "20/1511 Faylan - Tokyo Zero Hearts (Taeyang) [Insane].osu\n",
      "21/1511 Sound Horizon - Aoki Hakushaku no Shiro (celerih) [In the Secret Room].osu\n",
      "22/1511 Hololive - (Ochame Kinou) Fukkireta Chorus (Cree8) [Yagoo's Insane High Blood Pressure].osu\n",
      "23/1511 Murata Ayumi - Drawing Again (__Ag) [Drawing Memories].osu\n",
      "24/1511 Nightcore - Ravers Fantasy (LoweH) [deadbeat's Hard].osu\n",
      "25/1511 JUNNA - Here (Hailie) [Insane].osu\n",
      "26/1511 paraoka - boot (Laurier) [Insane].osu\n",
      "27/1511 MiddleIsland - Delrio (Dustice) [From the River].osu\n",
      "28/1511 Chino(CV.Minase Inori) - Shinsaku no Shiawase wa Kochira! (Shioi) [Son's Insane].osu\n",
      "29/151130/1511 TheFatRat - Mayday (feat. Laura Brehm) (Voltaeyx) [[2B] Calling Out Mayday].osu\n",
      " 31/1511 Nico Nico Douga - Not Panties Racing (Gcode2) [Waka's Breezy].osu\n",
      "32/1511 sana - Packet Hero (Zero__wind) [Insane].osu\n",
      "Natsuiro Matsuri - Watashi no Tenshi (bongo) [Precious feat. Amateurre].osu\n",
      "33/1511 raja - the light (Damnae) [Insane].osu\n",
      "34/1511 Shikata Akiko - Akatsuki (Linada) [Kalibe's Insane].osu\n",
      "35/1511 LeaF - Paraclete (Kroytz) [Insane].osu\n",
      "36/151137/1511 MIMI - Lapis Lazuli (-Liban-) [NotEnough's Insane].osu\n",
      " 38/1511 cYsmix - Babaroque (Short Ver.) (Mao) [Collab Insane].osu\n",
      "39/1511 Hanatan - Tengaku (Rakuen) [handsome's Insane].osu\n",
      "40/1511 Afilia Saga - S.M.L (TV size ver.) (Kanau) [-lolist-'s Insane].osu\n",
      "Matsutoya Yumi - Haru yo, koi (FlyJay Edit) (DTM9 Nowa) [Hard].osu41/1511 HyuN feat. LyuU - Cross Over (Sonnyc) [Insane].osu\n",
      "\n",
      "42/1511 yozuca - LOVING TRIP (Fycho) [Kyubey's Insane].osu\n",
      "43/1511 Haruna Luna - Momoiro Typhoon (Trynna) [Net0's Insane].osu\n",
      "44/1511 Last Note. - Caramel Heaven (Snepif) [Nyquill's Insane].osu\n",
      "45/1511 USAO - The Commanders(Extended Mix) (Yusomi) [Another].osu\n",
      "46/1511 Hanatan - Uta ni Katachi wa Nai keredo (Roll_Pan) [Melody -Short ver-].osu\n",
      "47/1511 Station Earth - Cold Green Eyes ft. Roos Denayer (Bearizm) [apple's Insane].osu\n",
      "48/1511 nomico - Bad Apple!! (James) [Normal].osu\n",
      "49/1511 Nightcore - Flower Dance (Harutora) [Flower Deal].osu\n",
      "50/1511 Kalafina - red moon (Kalibe) [Lunar].osu\n",
      "51/1511 Shiena Nishizawa - FUBUKI (Rizia) [eINess' Insane].osu\n",
      "52/1511 Takahashi Yoko - Zankoku na Tenshi no These (TV Size) (CptSqBany) [Walao's Insane].osu\n",
      "53/1511 Demetori - Koyoi wa Hyouitsu na Egoist ~ Ego, Schizoid, Beat. (Crissa) [Yorigami].osu\n",
      "54/1511 HO-KAGO TEA TIME - Tenshi ni Fureta yo! (Asterisk DnB Remix) (Sotarks) [Reform's Insane].osu\n",
      "55/1511 Tsunamaru - Daidai Genome (SkyLifeHope) [Orange].osu\n",
      "56/1511 Shirakami Fubuki - Bitter Choco Decoration (NitroM_) [Dark Chocolate].osu\n",
      "57/1511 Antonin Dvorak - Symphony No. 9, From the New World, IV. Allegro con fuoco (buraimaster1234) [Insane].osu\n",
      "58/1511 SawanoHiroyuki[nZk]Tielle & Gemie - sh0ut (Mir) [Rumiru's Insane].osu\n",
      "59/1511 cYsmix - Fright March (Gero) [Insane].osu\n",
      "60/1511 Fujijo Seitokai Shikkou-bu - Best FriendS (sahuang) [N a s y a's Insane].osu\n",
      "61/1511 Omoi - Chiisana Koi no Uta (Synth Rock Cover) (val0108) [Marianna's Insane].osu\n",
      "62/1511 Natsumi Kiyoura - Tabi no Tochuu (Weinmagier) [Normal].osu\n",
      "63/1511 Nico Nico Douga - U.Nknown Goose (Borokuzu) [Insane].osu\n",
      "64/1511 Hatsune Miku - Moon (Saten ruiko) [Insane].osu\n",
      "65/1511 fripSide - black bullet (TV Size) (Chloe) [Insane].osu\n",
      "66/1511 Hatsune Miku - the last effect (Holoaz) [ringloid].osu\n",
      "67/1511 Gojou Kai - Touhou Youkai Komachi (James) [Normal].osu\n",
      "68/1511 REOL - Hibikase (Gero) [NiNo's Insane].osu\n",
      "69/1511 Kuba Oms - My Love (W h i t e) [Insane].osu\n",
      "70/1511 Yasuo - P - Electric Angel (- Ruby Rose -) [Insane].osu\n",
      "71/1511 Shimotsuki Haruka, Suzuyu - Fairy Wreath (ImpurePug) [Angraecum].osu\n",
      "72/1511 ClariS - Connect (TV Size) (browiec) [Mathew's Insane].osu\n",
      "73/1511 DIVELA feat. Hatsune Miku - BEAT SYNCER (Log Off Now) [Insane].osu\n",
      "74/1511 The Quick Brown Fox - The Big Black (Blue Dragon) [WHO'S AFRAID OF THE BIG BLACK].osu\n",
      "75/1511 LhoU - Renaissance (sahuang) [Insane].osu\n",
      "76/1511 toby fox - Nyeh Heh Heh! & Bonetrousle (DaxMasterix) [NORMAL].osu\n",
      "77/1511 ryo (supercell) - ODDS&ENDS (Short Ver.) (Betsuto) [Insane].osu\n",
      "78/1511 TRakker - Trail of Dust (Amamiya Yuko) [Trail of Star].osu\n",
      "79/1511 Police Piccadilly feat. Hatsune Miku - Kire Carry On (Sinnoh) [negusver's Insane].osu\n",
      "80/1511 MOSAIC.WAV - Zen Sekai Teki Touch Panel (Laurier) [CrystLer].osu\n",
      "81/1511 Aiobahn & Yunomi - Makuramoto ni Ghost (feat. Nicamoq) (Swan) [Swan's Melanzana].osu\n",
      "82/1511 Camellia - Routing (Shiirn) [pishi's Advanced].osu\n",
      "83/1511 seleP feat. Lily - Chloe-Five Decades Ago- (Duftende Pizza) [V].osu\n",
      "84/1511 dj TAKA - quaver (Monstrata) [Haru's Insane].osu\n",
      "85/1511 Silver Forest Feat. Aki & Sakura Mayuko - Summer time Heaven -after (RVMathew) [Ojou].osu\n",
      "86/1511 Van Darkholme - GachiMuchi circulation (Kr0n0s23) [Thank you, sir!].osu\n",
      "87/1511 Ariabl'eyeS - Senkou no Furea (Kibbleru) [Redemption].osu\n",
      "88/1511 ATeens - Gimme! Gimme! Gimme! (Nightcore Mix) (ShadowSoul) [Gimme!].osu\n",
      "89/1511 Tomoe Tamiyasu - Yamato Nadeshiko Hanakotoba (Lasse) [Insane].osu\n",
      "90/1511 Masayoshi Minoshima ft. nomico - Bad Apple!! (Ephemeral) [Normal].osu\n",
      "91/1511 solfa feat. Shimotsuki Haruka - Natsuiro Ramune (Lasse) [Bariton's Insane].osu\n",
      "92/1511 Nakagawa Shouko - Sorairo Days (Rizen) [Fizz's Insane].osu\n",
      "93/1511 LeaF - Calamity Fortune (Arphimigon) [BOOM].osu\n",
      "94/1511 cillia - Fairytale, (SkinnyJommy) [Pho's Insane].osu\n",
      "95/1511 Lindsey Stirling - Senbonzakura (MrSergio) [Insane].osu\n",
      "96/1511 Hatsune Miku - Senkouhanabi Aika (val0108) [Insane].osu\n",
      "97/151198/1511 MISATO - Necro Fantasia (WORSTPOLACKEU) [Cheesecake's Insane].osu\n",
      " Hatsune Miku - Himitsu Keisatsu (Lalarun) [Insane].osu\n"
     ]
    },
    {
     "name": "stderr",
     "output_type": "stream",
     "text": [
      "Traceback (most recent call last):\n",
      "  File \"/tmp/ipykernel_20633/3035762184.py\", line 40, in process\n",
      "    self.y[i] = copy.deepcopy(m.get_beats())\n",
      "  File \"/tmp/ipykernel_20633/387084890.py\", line 202, in get_beats\n",
      "    self.process_beats()\n",
      "  File \"/tmp/ipykernel_20633/387084890.py\", line 177, in process_beats\n",
      "    if d % self.BeatDivisor == 0:\n",
      "TypeError: unsupported operand type(s) for %: 'int' and 'NoneType'\n"
     ]
    },
    {
     "name": "stdout",
     "output_type": "stream",
     "text": [
      "pruning: nomico - Bad Apple!! (James) [Normal].osu\n",
      "99/1511 a_hisa - Cheshire,s dance (Muya) [Normal].osu\n",
      "100/1511 Roselia - The Everlasting Guilty Crown (Underdogs) [Insane].osu\n",
      "101/1511 40meter-P - Mousou sketch (Noways) [Insane!].osu\n",
      "102/1511 sasakure.UK x DECO27 - 39 (Finshie) [Insane].osu\n",
      "103/1511 Chata - len (Cami) [xiqingwa's Lunatic].osu\n",
      "104/1511 Fractal Dreamers - Fata Morgana (Natsu) [captin's Insane].osu\n",
      "105/1511 u's - Snow Halation (Asterisk DnB Remix) (jeydude) [Nico].osu\n",
      "106/1511 Atoguru - Hana no Sadame (CSAQ) [Insane].osu\n",
      "107/1511 Daisuke Ishiwatari - Condemnation Wings (Jounzan) [Requiem Aeternam].osu\n",
      "108/1511 gmtn. (witch's slave) - furioso melodia (Urushi38) [EDITED].osu\n",
      "109/1511 Warak - Once Upon A Time (Xilver) [UC's Insane].osu\n",
      "110/1511 Gladenfold - ...To Eternity (LMT) [Yamicchi's Light Insane].osu\n",
      "111/1511 Krewella - Say Goodbye (Nightcore Mix) (Cut Ver.) (Bquntii) [Ignorance].osu\n",
      "112/1511 Hatsune Miku - Hand in Hand (Magical Mirai ver.) (Aureola) [Normal].osu\n",
      "113/1511 livetune feat. Hatsune Miku - Hand in Hand (Magical Mirai ver.) (Inversal) [Marathon].osu\n",
      "114/1511 Hatsuki Yura - Mitsu Matoishi Shiro no Himegimi ~Snow White~ (IceKalt) [Princess' Fury].osu\n",
      "pruning: Gojou Kai - Touhou Youkai Komachi (James) [Normal].osu\n"
     ]
    },
    {
     "name": "stderr",
     "output_type": "stream",
     "text": [
      "Traceback (most recent call last):\n",
      "  File \"/tmp/ipykernel_20633/3035762184.py\", line 40, in process\n",
      "    self.y[i] = copy.deepcopy(m.get_beats())\n",
      "  File \"/tmp/ipykernel_20633/387084890.py\", line 202, in get_beats\n",
      "    self.process_beats()\n",
      "  File \"/tmp/ipykernel_20633/387084890.py\", line 177, in process_beats\n",
      "    if d % self.BeatDivisor == 0:\n",
      "TypeError: unsupported operand type(s) for %: 'int' and 'NoneType'\n"
     ]
    },
    {
     "name": "stdout",
     "output_type": "stream",
     "text": [
      "115/1511 Yoshimura Haruka, Uchida Maaya, Aoki Shiki, Takamori Natsumi, Aihara Kotomi - EVERMORE (M@STER VERSION) (Shunao) [Matha's Insane].osu\n",
      "116/1511 Hatsuki Yura - Eclipse Parade (Vert) [Zero's Insane].osu\n",
      "117/1511 Vicetone - Kaleidoscope (Come[Back]Home) [Insane].osu\n",
      "118/1511 ClariS - Alicia (TV Size) (captin1) [Insane].osu\n",
      "119/1511 Tanya Degurechaff (CV Yuki Aoi) - Los! Los! Los! (Logic Agent) [Mun's Insane].osu\n",
      "120/1511 Hatsuki Yura - Kowaku no Mori (mama2093) [Dance].osu\n",
      "121/1511 Tama - Sonna Yume wo Mita no ~lonely dreaming girl~ (Remix) (BlackSheep) [It's a Snowy Dream [AR9]].osu\n",
      "122/1511 Sawai Miku - Colorful. (Asterisk DnB Remix) (Asfand) [Vibrant].osu\n",
      "123/1511 Yunomi & nicamoq - Indoor Kei Nara Trackmaker (dipperbee) [TrAcK MaKeR].osu\n",
      "124/1511 GTA feat. Sam Bruno - Red Lips (Mendus Remix) (Euny) [Natsu's Insane].osu\n",
      "125/1511 TrySail - Utsuroi (Short Ver.) (Log Off Now) [Nexus' Insane].osu\n",
      "126/1511 ZAQ - Seven Doors (eINess) [wkyik's Insane].osu\n",
      "127/1511 M2U - Stellar (Ultima Fox) [defiance's Insane].osu\n",
      "128/1511 SawanoHiroyuki[nZk]mizuki - aLIEz (jonathanlfj) [Trust's Normal].osu\n",
      "129/1511 YOASOBI - Yoru ni Kakeru (Petal) [Keirelia's Insane].osu\n",
      "130/1511 Usada Pekora - Discommunication Alien (Yugu) [XLT's Insane].osu\n",
      "131/1511 EastNewSound - Sadistic Paranoia (TicClick) [Vass-RJ's Hard].osu\n",
      "132/1511 Sound Souler - Paradise (kwk) [Mir's Insane].osu\n",
      "133/1511 Hatsune Miku - Subarashii Sekai (val0108) [Insane].osu\n",
      "134/1511 AAAA - carnation (Veridian) [noffy's normal].osu\n",
      "135/1511 Kamogawa rokkaazu (CVKubota Kaoru) - STONES (Pata-Mon) [GDInsane [placeholder]].osu\n",
      "136/1511 UNISON SQUARE GARDEN - Sugar Song to Bitter Step (Monstrata) [toybot's Insane].osu\n",
      "137/1511 Omoi - Snow Drive (Yales) [Insane].osu\n",
      "138/1511 Giga-P - Electric Angel (koreapenguin) [Sonnyc's Insane].osu\n",
      "139/1511 Kanon Wakeshima - Tsukinami (Kagetsu) [pkhg's Insane].osu\n",
      "140/1511 t+pazolite - Nekomimi Mayohiga Sumai (Lakrits) [Insane].osu\n",
      "141/1511 Akiyama Uni - Touhou Hisouten (sahuang) [Frey's Insane].osu\n",
      "142/1511 Aiobahn - Towa no Utage (w YUCe) (Shifu Touka) [OBLITERATION].osu\n",
      "143/1511 u's - LOVELESS WORLD (Sakurauchi Riko) [Unbound by Fate].osu\n",
      "144/1511 Hatsune Miku - World is Mine (tom800510) [Queen!!].osu\n",
      "145/1511 Spacelectro feat.Setsunan - Little Little wish (Starfy) [Desire].osu\n",
      "146/1511 Chihiro Yonekura - Koiseyo Otome! (Asahina Momoko) [VINXIS's Insane].osu\n",
      "147/1511 Denkishiki Karen Ongaku Shuudan - Distorted Pain (Lasse) [Despair].osu\n",
      "148/1511 Mitchie M - Hajimemashite Chikyuujin san (Osz) [Expert].osu\n",
      "149/1511 Primastella - Koigokoro (Koakuma) [Insane].osu\n",
      "150/1511 Ishida Yoko & 501st Joint Fighter Wing - Yakusoku no Sora e ~Watashi no Ita Basho~ (xNyamx) [Extra].osu\n",
      "151/1511 Matsumoto Sara - Suika (Kihhou) [Evanescence].osu\n",
      "152/1511 MIMI feat. Hatsune Miku - Mizuoto To Curtain (Mak Kau Hijau) [Insane].osu\n",
      "153/1511 Komine Lisa - Resuscitated Hope (Okorin) [Insane].osu\n",
      "154/1511 Hanatan - Senbonzakura (Karen) [Insane].osu\n",
      "155/1511 Mami Kawada - Wings of Courage -Sora o Koete- (BetaStar) [Insane].osu\n",
      "156/1511 Narae - SPiCa (timemon) [Insane].osu\n",
      "157/1511 seleP feat. MAYU - ELLIE (kwk) [[!]].osu\n",
      "158/1511 yanaginagi - Tokohana (HabiHolic) [Kanto's Insane].osu\n",
      "159/1511 Blackhole - Lagomorphic (happy623) [Lagomorph].osu\n",
      "160/1511 Station Earth - Age Of Reason (Sotarks) [FCL's Insane].osu\n",
      "161/1511 IA - Underdog Supremacist (-Hwangbo) [Hwang Kong City].osu\n",
      "162/1511 cYsmix - Classic Pursuit (-kevincela-) [Insane].osu\n",
      "163/1511 ClariS - Connect -TV MIX- (captin1) [Karia's Insane].osu\n",
      "164/1511 Nanawo Akari - One Room Sugar Life (TV Size) (Fushimi Rio) [Bariton's Insane].osu\n",
      "165/1511 Hanazawa Kana - Mousou Express (Remix) (-Tochi) [Koiyuki's Insane].osu166/1511 fhana - little secret magic (Sotarks) [Linada's Insane].osu\n",
      "\n",
      "167/1511 EastNewSound - Hiiro gekka, ky sakino zez (AlexTroIIPsy) [Blood Addicted].osu\n",
      "168/1511 RYO - Shuffle Heaven (Nemis) [eXtra].osu\n",
      "169/1511 Shimotsuki Haruka - small star (ImpurePug) [Lasse's Insane].osu\n",
      "170/1511 Void222x - Destruction Armageddon (Animeshka92) [Destruct your arm].osu\n",
      "171/1511 Marika - Soul Release short ver. (Kocari) [Insane].osu\n",
      "172/1511 Hatsuki Yura - Itoshiki Giulietta (zeluaR) [Contract].osu\n",
      "173/1511 a_hisa - Star Prism (trillian) [Insane].osu\n",
      "174/1511 Strike Witches - Over Sky (Epsilon Remix) ([ Kokoro ]) [XO].osu\n",
      "175/1511 gmtn. vs. kozato (fw. LUZE) - squartatrice (Morinaga) [Skystar's Descent].osu\n",
      "176/1511 Mitchie M - Suki Yuki Maji Magic (-Riamu-) [Riamu].osu\n",
      "pruning: Mitchie M - Suki Yuki Maji Magic (-Riamu-) [Riamu].osu\n",
      "177/1511 petit milady - Koi wa Milk Tea (Okoratu) [Normal].osu\n"
     ]
    },
    {
     "name": "stderr",
     "output_type": "stream",
     "text": [
      "Traceback (most recent call last):\n",
      "  File \"/tmp/ipykernel_20633/3035762184.py\", line 39, in process\n",
      "    self.x[i] = copy.deepcopy(m.get_audio())\n",
      "  File \"/tmp/ipykernel_20633/387084890.py\", line 197, in get_audio\n",
      "    self.process_audio()\n",
      "  File \"/tmp/ipykernel_20633/387084890.py\", line 104, in process_audio\n",
      "    feats = self.proc.process_audio(os.path.join(self.beatmap_dir, self.get_audiof()))\n",
      "  File \"/tmp/ipykernel_20633/680612967.py\", line 27, in process_audio\n",
      "    feats = self.pipe(audio)\n",
      "  File \"/home/poi/proj/osuAi/hitNet/.env/lib/python3.10/site-packages/madmom/processors.py\", line 120, in __call__\n",
      "    return self.process(*args, **kwargs)\n",
      "  File \"/home/poi/proj/osuAi/hitNet/.env/lib/python3.10/site-packages/madmom/processors.py\", line 424, in process\n",
      "    data = _process((processor, data, kwargs))\n",
      "  File \"/home/poi/proj/osuAi/hitNet/.env/lib/python3.10/site-packages/madmom/processors.py\", line 289, in _process\n",
      "    return process_tuple[0](*process_tuple[1:-1], **process_tuple[-1])\n",
      "  File \"/home/poi/proj/osuAi/hitNet/.env/lib/python3.10/site-packages/madmom/processors.py\", line 120, in __call__\n",
      "    return self.process(*args, **kwargs)\n",
      "  File \"/home/poi/proj/osuAi/hitNet/.env/lib/python3.10/site-packages/madmom/audio/signal.py\", line 769, in process\n",
      "    return Signal(data, **args)\n",
      "  File \"/home/poi/proj/osuAi/hitNet/.env/lib/python3.10/site-packages/madmom/audio/signal.py\", line 595, in __new__\n",
      "    data, sample_rate = load_audio_file(data, sample_rate=sample_rate,\n",
      "  File \"/home/poi/proj/osuAi/hitNet/.env/lib/python3.10/site-packages/madmom/io/audio.py\", line 603, in load_audio_file\n",
      "    return load_wave_file(filename, sample_rate=sample_rate,\n",
      "  File \"/home/poi/proj/osuAi/hitNet/.env/lib/python3.10/site-packages/madmom/io/audio.py\", line 493, in load_wave_file\n",
      "    file_sample_rate, signal = wavfile.read(filename, mmap=True)\n",
      "  File \"/home/poi/.local/lib/python3.10/site-packages/scipy/io/wavfile.py\", line 647, in read\n",
      "    fid = open(filename, 'rb')\n",
      "FileNotFoundError: [Errno 2] No such file or directory: '../beatmaps/231587 Mitchie M - Suki Yuki Maji Magic/--------------------- - Yuki.mp3'\n"
     ]
    },
    {
     "name": "stdout",
     "output_type": "stream",
     "text": [
      "178/1511 Dark PHOENiX - Taketori Hishou (KanbeKotori) [Extra].osu\n",
      "179/1511 Mili - Origin (TV Size) (Ryuusei Aika) [kanor's Insane].osu\n",
      "180/1511 Hanataba - Night of Knights (v2b) [Normal].osu\n",
      "181/1511 Sagara Kokoro - Hoshizora no Ima (Star Stream) [Insane].osu\n",
      "182/1511 Hanatan - Uta ni Katachi wa Nai keredo (Asahina Momoko) [Recollection].osu\n",
      "183/1511 PinocchioP - SLoWMoTIoN (Short Ver.)feat.Hatsune Miku (lllmtklll) [Insane].osu\n",
      "184/1511 Yoko Takahashi - Zankoku Na Tenshi No These (TV. Size Version) (moph) [Ambient's Insane].osu\n",
      "185/1511 Noboru ft. Hatsune Miku - Shiroi Yuki No Princess Wa (Hokichi) [ShiraHoki's Light Insane].osu\n",
      "186/1511 Chitose Sara - Arcadia (Short ver.) (Riven) [-Tochi's Insane].osu\n",
      "187/1511 eyemedia - Bloody Purity (tsuka) [Normal].osu\n",
      "188/1511 Atoguru - Itoshi Kimi wo Mitsuke ni (Pizza Kun) [Insane].osu\n",
      "189/1511 Hanasaka Yui(CV M.A.O) - Harumachi Clover (Naotoshi) [Light Insane].osu\n",
      "190/1511 Hatsune Miku - Ephemeral (Wishkey) [Fade Away].osu\n",
      "191/1511 emon - shake it! (kosiga) [Normal].osu\n",
      "192/1511 Suzuki Konomi - This game (TV Size) (Sekai-nyan) [Nyquill's Insane Game].osu\n",
      "193/1511 Warak - REANIMATE (iyasine) [xsrs's Extra].osu\n"
     ]
    },
    {
     "ename": "KeyboardInterrupt",
     "evalue": "",
     "output_type": "error",
     "traceback": [
      "\u001b[0;31m---------------------------------------------------------------------------\u001b[0m",
      "\u001b[0;31mKeyboardInterrupt\u001b[0m                         Traceback (most recent call last)",
      "Input \u001b[0;32mIn [16]\u001b[0m, in \u001b[0;36m<cell line: 4>\u001b[0;34m()\u001b[0m\n\u001b[1;32m      1\u001b[0m start \u001b[38;5;241m=\u001b[39m time\u001b[38;5;241m.\u001b[39mtime()\n\u001b[1;32m      3\u001b[0m log_spect \u001b[38;5;241m=\u001b[39m LOG_SPECT(sample_rate\u001b[38;5;241m=\u001b[39msample_rate, hop_size\u001b[38;5;241m=\u001b[39mhop_size, n_bands\u001b[38;5;241m=\u001b[39m[\u001b[38;5;241m24\u001b[39m], mode\u001b[38;5;241m=\u001b[39m\u001b[38;5;124m'\u001b[39m\u001b[38;5;124moffline\u001b[39m\u001b[38;5;124m'\u001b[39m)\n\u001b[0;32m----> 4\u001b[0m ds \u001b[38;5;241m=\u001b[39m \u001b[43mBeatmap_Dataset\u001b[49m\u001b[43m(\u001b[49m\u001b[43mbeatmap_dir\u001b[49m\u001b[43m,\u001b[49m\u001b[43m \u001b[49m\u001b[43mlog_spect\u001b[49m\u001b[43m,\u001b[49m\u001b[43m \u001b[49m\u001b[43mseq_dur\u001b[49m\u001b[38;5;241;43m=\u001b[39;49m\u001b[43mseq_dur\u001b[49m\u001b[43m,\u001b[49m\u001b[43m \u001b[49m\u001b[43msample_rate\u001b[49m\u001b[38;5;241;43m=\u001b[39;49m\u001b[43msample_rate\u001b[49m\u001b[43m,\u001b[49m\u001b[43m \u001b[49m\n\u001b[1;32m      5\u001b[0m \u001b[43m                     \u001b[49m\u001b[43mhop_size\u001b[49m\u001b[38;5;241;43m=\u001b[39;49m\u001b[43mhop_size\u001b[49m\u001b[43m,\u001b[49m\u001b[43m \u001b[49m\u001b[43mpeak_type\u001b[49m\u001b[38;5;241;43m=\u001b[39;49m\u001b[43mpeak_type\u001b[49m\u001b[43m,\u001b[49m\u001b[43m \u001b[49m\u001b[43mwidth\u001b[49m\u001b[38;5;241;43m=\u001b[39;49m\u001b[43mwidth\u001b[49m\u001b[43m,\u001b[49m\u001b[43m \u001b[49m\u001b[43msingle_beat_channel\u001b[49m\u001b[38;5;241;43m=\u001b[39;49m\u001b[43msingle_beat_channel\u001b[49m\u001b[43m,\u001b[49m\u001b[43m \u001b[49m\u001b[43mthreads\u001b[49m\u001b[38;5;241;43m=\u001b[39;49m\u001b[38;5;241;43m64\u001b[39;49m\u001b[43m,\u001b[49m\u001b[43m \u001b[49m\u001b[43mthreading\u001b[49m\u001b[38;5;241;43m=\u001b[39;49m\u001b[38;5;28;43;01mTrue\u001b[39;49;00m\u001b[43m)\u001b[49m\n\u001b[1;32m      7\u001b[0m end \u001b[38;5;241m=\u001b[39m time\u001b[38;5;241m.\u001b[39mtime()\n\u001b[1;32m      8\u001b[0m \u001b[38;5;28mprint\u001b[39m(end \u001b[38;5;241m-\u001b[39m start, \u001b[38;5;124m'\u001b[39m\u001b[38;5;124msecs\u001b[39m\u001b[38;5;124m'\u001b[39m)\n",
      "Input \u001b[0;32mIn [9]\u001b[0m, in \u001b[0;36mBeatmap_Dataset.__init__\u001b[0;34m(self, beatmap_dir, proc, seq_dur, sample_rate, hop_size, width, peak_type, single_beat_channel, threads, threading)\u001b[0m\n\u001b[1;32m     53\u001b[0m \u001b[38;5;28;01mif\u001b[39;00m threading:\n\u001b[1;32m     54\u001b[0m     executor \u001b[38;5;241m=\u001b[39m concurrent\u001b[38;5;241m.\u001b[39mfutures\u001b[38;5;241m.\u001b[39mThreadPoolExecutor(threads)\n\u001b[0;32m---> 55\u001b[0m     \u001b[38;5;28;43mlist\u001b[39;49m\u001b[43m(\u001b[49m\u001b[43mexecutor\u001b[49m\u001b[38;5;241;43m.\u001b[39;49m\u001b[43mmap\u001b[49m\u001b[43m(\u001b[49m\u001b[43mprocess\u001b[49m\u001b[43m,\u001b[49m\u001b[43m \u001b[49m\u001b[38;5;28;43mrange\u001b[39;49m\u001b[43m(\u001b[49m\u001b[43mj\u001b[49m\u001b[43m)\u001b[49m\u001b[43m)\u001b[49m\u001b[43m)\u001b[49m\n\u001b[1;32m     56\u001b[0m \u001b[38;5;28;01melse\u001b[39;00m:\n\u001b[1;32m     57\u001b[0m     \u001b[38;5;28mlist\u001b[39m(\u001b[38;5;28mmap\u001b[39m(process, \u001b[38;5;28mrange\u001b[39m(j)))\n",
      "File \u001b[0;32m~/proj/osuAi/hitNet/.env/lib/python3.10/concurrent/futures/_base.py:609\u001b[0m, in \u001b[0;36mExecutor.map.<locals>.result_iterator\u001b[0;34m()\u001b[0m\n\u001b[1;32m    606\u001b[0m \u001b[38;5;28;01mwhile\u001b[39;00m fs:\n\u001b[1;32m    607\u001b[0m     \u001b[38;5;66;03m# Careful not to keep a reference to the popped future\u001b[39;00m\n\u001b[1;32m    608\u001b[0m     \u001b[38;5;28;01mif\u001b[39;00m timeout \u001b[38;5;129;01mis\u001b[39;00m \u001b[38;5;28;01mNone\u001b[39;00m:\n\u001b[0;32m--> 609\u001b[0m         \u001b[38;5;28;01myield\u001b[39;00m \u001b[43mfs\u001b[49m\u001b[38;5;241;43m.\u001b[39;49m\u001b[43mpop\u001b[49m\u001b[43m(\u001b[49m\u001b[43m)\u001b[49m\u001b[38;5;241;43m.\u001b[39;49m\u001b[43mresult\u001b[49m\u001b[43m(\u001b[49m\u001b[43m)\u001b[49m\n\u001b[1;32m    610\u001b[0m     \u001b[38;5;28;01melse\u001b[39;00m:\n\u001b[1;32m    611\u001b[0m         \u001b[38;5;28;01myield\u001b[39;00m fs\u001b[38;5;241m.\u001b[39mpop()\u001b[38;5;241m.\u001b[39mresult(end_time \u001b[38;5;241m-\u001b[39m time\u001b[38;5;241m.\u001b[39mmonotonic())\n",
      "File \u001b[0;32m~/proj/osuAi/hitNet/.env/lib/python3.10/concurrent/futures/_base.py:441\u001b[0m, in \u001b[0;36mFuture.result\u001b[0;34m(self, timeout)\u001b[0m\n\u001b[1;32m    438\u001b[0m \u001b[38;5;28;01melif\u001b[39;00m \u001b[38;5;28mself\u001b[39m\u001b[38;5;241m.\u001b[39m_state \u001b[38;5;241m==\u001b[39m FINISHED:\n\u001b[1;32m    439\u001b[0m     \u001b[38;5;28;01mreturn\u001b[39;00m \u001b[38;5;28mself\u001b[39m\u001b[38;5;241m.\u001b[39m__get_result()\n\u001b[0;32m--> 441\u001b[0m \u001b[38;5;28;43mself\u001b[39;49m\u001b[38;5;241;43m.\u001b[39;49m\u001b[43m_condition\u001b[49m\u001b[38;5;241;43m.\u001b[39;49m\u001b[43mwait\u001b[49m\u001b[43m(\u001b[49m\u001b[43mtimeout\u001b[49m\u001b[43m)\u001b[49m\n\u001b[1;32m    443\u001b[0m \u001b[38;5;28;01mif\u001b[39;00m \u001b[38;5;28mself\u001b[39m\u001b[38;5;241m.\u001b[39m_state \u001b[38;5;129;01min\u001b[39;00m [CANCELLED, CANCELLED_AND_NOTIFIED]:\n\u001b[1;32m    444\u001b[0m     \u001b[38;5;28;01mraise\u001b[39;00m CancelledError()\n",
      "File \u001b[0;32m~/proj/osuAi/hitNet/.env/lib/python3.10/threading.py:320\u001b[0m, in \u001b[0;36mCondition.wait\u001b[0;34m(self, timeout)\u001b[0m\n\u001b[1;32m    318\u001b[0m \u001b[38;5;28;01mtry\u001b[39;00m:    \u001b[38;5;66;03m# restore state no matter what (e.g., KeyboardInterrupt)\u001b[39;00m\n\u001b[1;32m    319\u001b[0m     \u001b[38;5;28;01mif\u001b[39;00m timeout \u001b[38;5;129;01mis\u001b[39;00m \u001b[38;5;28;01mNone\u001b[39;00m:\n\u001b[0;32m--> 320\u001b[0m         \u001b[43mwaiter\u001b[49m\u001b[38;5;241;43m.\u001b[39;49m\u001b[43macquire\u001b[49m\u001b[43m(\u001b[49m\u001b[43m)\u001b[49m\n\u001b[1;32m    321\u001b[0m         gotit \u001b[38;5;241m=\u001b[39m \u001b[38;5;28;01mTrue\u001b[39;00m\n\u001b[1;32m    322\u001b[0m     \u001b[38;5;28;01melse\u001b[39;00m:\n",
      "\u001b[0;31mKeyboardInterrupt\u001b[0m: "
     ]
    }
   ],
   "source": [
    "start = time.time()\n",
    "\n",
    "log_spect = LOG_SPECT(sample_rate=sample_rate, hop_size=hop_size, n_bands=[24], mode='offline')\n",
    "ds = Beatmap_Dataset(beatmap_dir, log_spect, seq_dur=seq_dur, sample_rate=sample_rate, \n",
    "                     hop_size=hop_size, peak_type=peak_type, width=width, single_beat_channel=single_beat_channel, threads=64, threading=True)\n",
    "\n",
    "end = time.time()\n",
    "print(end - start, 'secs')"
   ]
  },
  {
   "cell_type": "code",
   "execution_count": null,
   "id": "b9bf326d-1a44-469d-b1a0-dbae912baab3",
   "metadata": {},
   "outputs": [],
   "source": [
    "start = time.time()\n",
    "\n",
    "torch.save(ds, ds_path)\n",
    "\n",
    "end = time.time()\n",
    "print(end - start, 'secs')"
   ]
  },
  {
   "cell_type": "code",
   "execution_count": 11,
   "id": "0f92aae0-191a-4be8-813d-5e0f7d781aaf",
   "metadata": {},
   "outputs": [],
   "source": [
    "ds = torch.load(ds_path)"
   ]
  },
  {
   "cell_type": "raw",
   "id": "780b7b0b-ce55-4199-b6c7-6eca2b87df97",
   "metadata": {},
   "source": [
    "#update database keeping data\n",
    "n = Beatmap_Dataset(None, None, seq_dur=seq_dur, sample_rate=sample_rate, hop_size=hop_size)\n",
    "n.x = ds.x\n",
    "n.y = ds.y\n",
    "n.m = ds.m\n",
    "ds = n"
   ]
  },
  {
   "cell_type": "markdown",
   "id": "47c2491b",
   "metadata": {},
   "source": [
    "# Model"
   ]
  },
  {
   "cell_type": "code",
   "execution_count": 12,
   "id": "802fa795-081d-44a6-b161-cc6e24a83327",
   "metadata": {},
   "outputs": [],
   "source": [
    "import torch"
   ]
  },
  {
   "cell_type": "code",
   "execution_count": 13,
   "id": "f514b855",
   "metadata": {
    "tags": []
   },
   "outputs": [],
   "source": [
    "import torch.nn as nn\n",
    "import torch.nn.functional as nnF"
   ]
  },
  {
   "cell_type": "raw",
   "id": "ebb6541c-272c-4a5a-bc86-333d6f603911",
   "metadata": {
    "jupyter": {
     "source_hidden": true
    },
    "tags": []
   },
   "source": [
    "class DBN(nn.Module):\n",
    "    def __init__(self, dim_in, dim_out, num_cells, num_layers, batch_size):\n",
    "        super(DBN, self).__init__()\n",
    "        \n",
    "        self.dim_in = dim_in\n",
    "        self.dim_out = dim_out\n",
    "        self.dim_hd = num_cells\n",
    "        self.num_layers = num_layers\n",
    "        self.batch_size = batch_size\n",
    "        self.conv_out = 150\n",
    "        self.kernelsize = 10\n",
    "        self.conv1 = nn.Conv1d(1, 2, self.kernelsize)\n",
    "        self.linear0 = nn.Linear(2*int((self.dim_in-self.kernelsize+1)/2), self.conv_out)\n",
    "        self.linear1 = nn.Linear(self.dim_hd, self.dim_out)\n",
    "        self.lstm = nn.LSTM(input_size=self.conv_out,\n",
    "                           hidden_size=self.dim_hd,\n",
    "                           num_layers=self.num_layers,\n",
    "                           batch_first=True,\n",
    "                           bidirectional=False)\n",
    "        self.hidden, self.cell = self.init_hidden()\n",
    "        \n",
    "    def init_hidden(self):\n",
    "        hidden_state = torch.zeros(2, self.batch_size, self.dim_hd)\n",
    "        cell_state = torch.zeros(2, self.batch_size, self.dim_hd)\n",
    "        return (hidden_state, cell_state)\n",
    "\n",
    "    \"\"\"\n",
    "    def forward(self, x, hidden):\n",
    "        #torch.reshape(x_input, (-1, self.dim_in))\n",
    "        #x = x.unsqueeze(0).transpose(0, 1)\n",
    "        x = x.unsqueeze(0)\n",
    "        x = self.conv1(x)\n",
    "        x = nnF.relu(x)\n",
    "        x = nnF.max_pool1d(x, 2)\n",
    "        x = x.view(-1, self.num_flat_features(x))\n",
    "        x = self.linear0(x)\n",
    "        x = torch.reshape(x, (np.shape(x_input)[0], np.shape(x_input)[1], self.conv_out))\n",
    "        x, hidden = self.lstm(x, hidden)\n",
    "        x = self.linear1(x)\n",
    "        x = x.softmax(x)\n",
    "        #x = x.transpose(1, 2)     \n",
    "        return x, hidden\n",
    "    \"\"\""
   ]
  },
  {
   "cell_type": "code",
   "execution_count": 14,
   "id": "c03de208-bcda-49f3-9e57-70c617bf8b16",
   "metadata": {},
   "outputs": [],
   "source": [
    "class DBN(nn.Module):\n",
    "    def __init__(self, dim_in, dim_out, num_cells, num_layers, batch_size, kernel_size=3):\n",
    "        super(DBN, self).__init__()\n",
    "        \n",
    "        self.dim_in = dim_in\n",
    "        self.dim_out = dim_out\n",
    "        self.dim_hd = num_cells\n",
    "        self.num_layers = num_layers\n",
    "        self.batch_size = batch_size\n",
    "        self.kernel_size = kernel_size\n",
    "        self.padding = 2\n",
    "        \n",
    "        # convolution\n",
    "        K = self.kernel_size\n",
    "        P = 1\n",
    "        S = 1\n",
    "        # pooling\n",
    "        p = 0\n",
    "        k = 2\n",
    "        s = 2\n",
    "        \n",
    "        # temporal\n",
    "        W = dim_in[1]\n",
    "        temporal_dim = int(((W - K + 2*P)/S) + 1)\n",
    "        #self.temporal_dim = int(((temporal_dim - k + 2*p)/s) + 1)\n",
    "        self.temporal_dim = temporal_dim\n",
    "        \n",
    "        # spectral\n",
    "        W = dim_in[0]\n",
    "        spectral_dim = int(((W - K + 2*P)/S) + 1)\n",
    "        self.spectral_dim = int(((spectral_dim - k + 2*p)/s) + 1)\n",
    "        self.conv_out = self.temporal_dim\n",
    "        \n",
    "        self.conv1 = nn.Conv2d(1, 1, (3, self.kernel_size), padding=1)\n",
    "        self.lstm1 = nn.LSTM(input_size=self.conv_out,\n",
    "                           hidden_size=self.dim_hd,\n",
    "                           num_layers=self.num_layers,\n",
    "                           batch_first=True,\n",
    "                           bidirectional=False)\n",
    "        self.linear0 = nn.Linear(self.dim_hd, self.dim_hd)\n",
    "        self.linear1 = nn.Linear(self.dim_hd, self.dim_out)\n",
    "        self.softmax = nn.Softmax(dim=0)\n",
    "        self.hidden = None\n",
    "        \n",
    "    def init_hidden(self, batch_size, device):\n",
    "        hidden_state = torch.zeros(self.num_layers, batch_size, self.dim_hd).to(device)\n",
    "        cell_state = torch.zeros(self.num_layers, batch_size, self.dim_hd).to(device)\n",
    "        self.hidden = (hidden_state, cell_state)\n",
    "\n",
    "    def forward(self, x):\n",
    "        x = x.unsqueeze(1)\n",
    "        x = self.conv1(x)\n",
    "        x = x.squeeze(1)\n",
    "        x = nnF.relu(x)\n",
    "        #x = nnF.max_pool2d(x, (1,2))\n",
    "        x, self.hidden = self.lstm1(x, self.hidden)\n",
    "        #x = self.linear0(x)\n",
    "        x = self.linear1(x)\n",
    "        #x = self.softmax(x)    \n",
    "        return x"
   ]
  },
  {
   "cell_type": "markdown",
   "id": "18027262-19df-4f72-a31e-bfe390ea175a",
   "metadata": {},
   "source": [
    "# Training"
   ]
  },
  {
   "cell_type": "code",
   "execution_count": 15,
   "id": "c2a8cb58-1a4b-471b-abb4-32eb81048703",
   "metadata": {},
   "outputs": [],
   "source": [
    "import torch\n",
    "from torch.utils.data import DataLoader\n",
    "from torchinfo import summary\n",
    "from qqdm.notebook import qqdm\n",
    "import matplotlib.pyplot as plt"
   ]
  },
  {
   "cell_type": "code",
   "execution_count": 16,
   "id": "c1d82071",
   "metadata": {},
   "outputs": [],
   "source": [
    "epochs = 60\n",
    "batch_size = 32\n",
    "init_trunc = 1"
   ]
  },
  {
   "cell_type": "code",
   "execution_count": 18,
   "id": "cc10f571-2f79-4f52-88af-2f8ad5480ab3",
   "metadata": {},
   "outputs": [],
   "source": [
    "dim_in = (ds.seq_len, ds.x[0].shape[1])\n",
    "dim_out = 1 #ds.y[0].shape[1] + 1"
   ]
  },
  {
   "cell_type": "code",
   "execution_count": 19,
   "id": "71c6b09d-80ec-4a99-bc46-949a03629095",
   "metadata": {},
   "outputs": [
    {
     "data": {
      "text/plain": [
       "========================================================================================================================\n",
       "Layer (type:depth-idx)                   Input Shape      Output Shape     Param #          Kernel Shape     Mult-Adds\n",
       "========================================================================================================================\n",
       "DBN                                      --               --               --               --               --\n",
       "├─Conv2d: 1-1                            [1, 1, 500, 280] [1, 1, 500, 278] 16               [1, 1, 3, 5]     2,224,000\n",
       "├─LSTM: 1-2                              [1, 500, 278]    [1, 500, 64]     321,024          --               160,512,000\n",
       "├─Linear: 1-3                            [1, 500, 64]     [1, 500, 1]      65               [64, 1]          65\n",
       "├─Linear: 1-4                            --               --               (recursive)      [64, 1]          --\n",
       "├─Softmax: 1-5                           --               --               --               --               --\n",
       "========================================================================================================================\n",
       "Total params: 321,105\n",
       "Trainable params: 321,105\n",
       "Non-trainable params: 0\n",
       "Total mult-adds (M): 162.74\n",
       "========================================================================================================================\n",
       "Input size (MB): 0.56\n",
       "Forward/backward pass size (MB): 1.37\n",
       "Params size (MB): 1.28\n",
       "Estimated Total Size (MB): 3.22\n",
       "========================================================================================================================"
      ]
     },
     "execution_count": 19,
     "metadata": {},
     "output_type": "execute_result"
    }
   ],
   "source": [
    "epoch_cum = 0\n",
    "model = DBN(dim_in=dim_in, dim_out=dim_out, num_cells=64, num_layers=8, batch_size=batch_size, kernel_size=5)\n",
    "summary(model, (1, dim_in[0], dim_in[1]), col_width=16,\n",
    "        col_names=[\"input_size\",\n",
    "                \"output_size\",\n",
    "                \"num_params\",\n",
    "                \"kernel_size\",\n",
    "                \"mult_adds\",])"
   ]
  },
  {
   "cell_type": "code",
   "execution_count": 21,
   "id": "d88daf88-7188-40b9-820a-94f2835f1131",
   "metadata": {},
   "outputs": [],
   "source": [
    "train_ds = Beatmap_Dataset(None, None, seq_dur=seq_dur, sample_rate=sample_rate, \n",
    "                     hop_size=hop_size, peak_type=peak_type, width=width, single_beat_channel=single_beat_channel)\n",
    "val_ds = Beatmap_Dataset(None, None, seq_dur=seq_dur, sample_rate=sample_rate, \n",
    "                     hop_size=hop_size, peak_type=peak_type, width=width, single_beat_channel=single_beat_channel)\n",
    "\n",
    "train_ds.take(ds, 0, int(len(ds) * 0.8))\n",
    "val_ds.take(ds, int(len(ds) * 0.8), len(ds))\n",
    "\n",
    "train_ldr = DataLoader(train_ds, batch_size=batch_size, shuffle=True)\n",
    "val_ldr = DataLoader(val_ds, batch_size=batch_size, shuffle=False)"
   ]
  },
  {
   "cell_type": "code",
   "execution_count": 22,
   "id": "9f2ee2ba-bb62-4ef0-88d9-ad5bef3d60fe",
   "metadata": {},
   "outputs": [],
   "source": [
    "device = torch.device('cuda')\n",
    "model = model.to(device)\n",
    "criterion = nn.MSELoss()\n",
    "optimizer = torch.optim.Adam(model.parameters(), lr=0.001)"
   ]
  },
  {
   "cell_type": "code",
   "execution_count": 42,
   "id": "3e337b33",
   "metadata": {
    "tags": []
   },
   "outputs": [],
   "source": [
    "def train():\n",
    "    global epoch_cum\n",
    "    \n",
    "    for epoch in range(epochs):\n",
    "        model.train()\n",
    "        train_loss = 0\n",
    "        info = qqdm(train_ldr)\n",
    "        for x, y, t, m, in info:\n",
    "            model.init_hidden(x.shape[0], device)\n",
    "            X, Y = x.to(device), y.to(device)\n",
    "\n",
    "            optimizer.zero_grad()\n",
    "            O = model(X)\n",
    "\n",
    "            for i in range(Y.shape[0]):\n",
    "                l = int(t[1][i] * 0.001 * m[0][1][i] * init_trunc)\n",
    "                O[i][0:l] = torch.tensor([[0] * (dim_out)] * l)        \n",
    "                Y[i][0:l] = torch.tensor([0 * (dim_out)] * l)\n",
    "\n",
    "            loss = criterion(O[:,:,0:(dim_out)], Y.unsqueeze(1))\n",
    "            loss.backward()\n",
    "            optimizer.step()\n",
    "\n",
    "            #print(loss.item())        \n",
    "            train_loss += loss.item()\n",
    "            info.set_infos({'loss': f'{loss.item():.4f}'})\n",
    "\n",
    "        model.eval()\n",
    "        torch.no_grad()\n",
    "        val_loss = 0\n",
    "        #info = qqdm(val_ldr)\n",
    "        #for x, y, t, m in info:\n",
    "        for x, y, t, m in val_ldr:\n",
    "            model.init_hidden(x.shape[0], device)\n",
    "            X, Y = x.to(device), y.to(device)\n",
    "\n",
    "            O = model(X)\n",
    "\n",
    "            for i in range(O.shape[0]):\n",
    "                l = int(t[1][i] * 0.001 * m[0][1][i] * init_trunc)\n",
    "                O[i][0:l] = torch.tensor([[0] * (dim_out)] * l)\n",
    "                Y[i][0:l] = torch.tensor([0 * (dim_out)] * l)\n",
    "\n",
    "            loss = criterion(O[:,:,0:(dim_out)], Y.unsqueeze(1))\n",
    "\n",
    "            #print(loss.item())\n",
    "            val_loss += loss.item()\n",
    "\n",
    "        train_loss = train_loss/len(train_ldr)    \n",
    "        val_loss = val_loss/len(val_ldr)\n",
    "        print(epoch+epoch_cum, 'of', epochs+epoch_cum)\n",
    "        print(\"TRAIN LOSS:\", train_loss)\n",
    "        print(\"VAL LOSS:\", val_loss)\n",
    "        \n",
    "        for i in range(dim_out):\n",
    "            plt.plot(O[0,:,i].cpu().detach().numpy())\n",
    "            plt.plot(y[i])\n",
    "            plt.show()\n",
    "            \n",
    "    epoch_cum += epochs"
   ]
  },
  {
   "cell_type": "code",
   "execution_count": 43,
   "id": "07ab1777-c4a9-4c5c-a12c-f61784eed7d2",
   "metadata": {
    "tags": []
   },
   "outputs": [
    {
     "data": {
      "text/plain": [
       "\u001b[K\u001b[F \u001b[1mIters\u001b[0m    \u001b[1mElapsed Time\u001b[0m      \u001b[1mSpeed\u001b[0m     \u001b[1mloss\u001b[0m                                      \n",
       " \u001b[99m37/\u001b[93m37\u001b[0m\u001b[0m  \u001b[99m00:00:04<\u001b[93m00:00:00\u001b[0m\u001b[0m  \u001b[99m7.59it/s\u001b[0m  \u001b[99m0.0624\u001b[0m                                     "
      ]
     },
     "metadata": {},
     "output_type": "display_data"
    },
    {
     "data": {
      "application/vnd.jupyter.widget-view+json": {
       "model_id": "341f22aa56e5421891a9e9f54a708032",
       "version_major": 2,
       "version_minor": 0
      },
      "text/plain": [
       "IpythonBar(children=(HTML(value='  0.0%'), FloatProgress(value=0.0)))"
      ]
     },
     "metadata": {},
     "output_type": "display_data"
    },
    {
     "name": "stderr",
     "output_type": "stream",
     "text": [
      "/home/poi/proj/osuAi/hitNet/.env/lib/python3.10/site-packages/torch/nn/modules/loss.py:529: UserWarning: Using a target size (torch.Size([28, 1, 500])) that is different to the input size (torch.Size([28, 500, 1])). This will likely lead to incorrect results due to broadcasting. Please ensure they have the same size.\n",
      "  return F.mse_loss(input, target, reduction=self.reduction)\n"
     ]
    },
    {
     "name": "stdout",
     "output_type": "stream",
     "text": [
      "0 of 60\n",
      "TRAIN LOSS: 0.05990751862928674\n",
      "VAL LOSS: 0.06148778609931469\n"
     ]
    },
    {
     "name": "stderr",
     "output_type": "stream",
     "text": [
      "/home/poi/proj/osuAi/hitNet/.env/lib/python3.10/site-packages/torch/nn/modules/loss.py:529: UserWarning: Using a target size (torch.Size([7, 1, 500])) that is different to the input size (torch.Size([7, 500, 1])). This will likely lead to incorrect results due to broadcasting. Please ensure they have the same size.\n",
      "  return F.mse_loss(input, target, reduction=self.reduction)\n"
     ]
    },
    {
     "data": {
      "image/png": "[encoded data removed]",
      "text/plain": [
       "<Figure size 1440x72 with 1 Axes>"
      ]
     },
     "metadata": {
      "needs_background": "light"
     },
     "output_type": "display_data"
    },
    {
     "data": {
      "text/plain": [
       "\u001b[K\u001b[F \u001b[1mIters\u001b[0m    \u001b[1mElapsed Time\u001b[0m      \u001b[1mSpeed\u001b[0m     \u001b[1mloss\u001b[0m                                      \n",
       " \u001b[99m37/\u001b[93m37\u001b[0m\u001b[0m  \u001b[99m00:00:04<\u001b[93m00:00:00\u001b[0m\u001b[0m  \u001b[99m8.06it/s\u001b[0m  \u001b[99m0.0538\u001b[0m                                     "
      ]
     },
     "metadata": {},
     "output_type": "display_data"
    },
    {
     "data": {
      "application/vnd.jupyter.widget-view+json": {
       "model_id": "95c40573961248db8a1e5fbb1be9fd0c",
       "version_major": 2,
       "version_minor": 0
      },
      "text/plain": [
       "IpythonBar(children=(HTML(value='  0.0%'), FloatProgress(value=0.0)))"
      ]
     },
     "metadata": {},
     "output_type": "display_data"
    },
    {
     "name": "stderr",
     "output_type": "stream",
     "text": [
      "/home/poi/proj/osuAi/hitNet/.env/lib/python3.10/site-packages/torch/nn/modules/loss.py:529: UserWarning: Using a target size (torch.Size([32, 1, 500])) that is different to the input size (torch.Size([32, 500, 1])). This will likely lead to incorrect results due to broadcasting. Please ensure they have the same size.\n",
      "  return F.mse_loss(input, target, reduction=self.reduction)\n",
      "/home/poi/proj/osuAi/hitNet/.env/lib/python3.10/site-packages/torch/nn/modules/loss.py:529: UserWarning: Using a target size (torch.Size([28, 1, 500])) that is different to the input size (torch.Size([28, 500, 1])). This will likely lead to incorrect results due to broadcasting. Please ensure they have the same size.\n",
      "  return F.mse_loss(input, target, reduction=self.reduction)\n"
     ]
    },
    {
     "name": "stdout",
     "output_type": "stream",
     "text": [
      "1 of 60\n",
      "TRAIN LOSS: 0.059691761997905934\n",
      "VAL LOSS: 0.06106954663991928\n"
     ]
    },
    {
     "name": "stderr",
     "output_type": "stream",
     "text": [
      "/home/poi/proj/osuAi/hitNet/.env/lib/python3.10/site-packages/torch/nn/modules/loss.py:529: UserWarning: Using a target size (torch.Size([7, 1, 500])) that is different to the input size (torch.Size([7, 500, 1])). This will likely lead to incorrect results due to broadcasting. Please ensure they have the same size.\n",
      "  return F.mse_loss(input, target, reduction=self.reduction)\n"
     ]
    },
    {
     "data": {
      "image/png": "[encoded data removed]",
      "text/plain": [
       "<Figure size 1440x72 with 1 Axes>"
      ]
     },
     "metadata": {
      "needs_background": "light"
     },
     "output_type": "display_data"
    },
    {
     "data": {
      "text/plain": [
       "\u001b[K\u001b[F \u001b[1mIters\u001b[0m    \u001b[1mElapsed Time\u001b[0m      \u001b[1mSpeed\u001b[0m     \u001b[1mloss\u001b[0m                                      \n",
       " \u001b[99m37/\u001b[93m37\u001b[0m\u001b[0m  \u001b[99m00:00:04<\u001b[93m00:00:00\u001b[0m\u001b[0m  \u001b[99m8.19it/s\u001b[0m  \u001b[99m0.0623\u001b[0m                                     "
      ]
     },
     "metadata": {},
     "output_type": "display_data"
    },
    {
     "data": {
      "application/vnd.jupyter.widget-view+json": {
       "model_id": "04c3ae31496b4f079eddeef36ee73d48",
       "version_major": 2,
       "version_minor": 0
      },
      "text/plain": [
       "IpythonBar(children=(HTML(value='  0.0%'), FloatProgress(value=0.0)))"
      ]
     },
     "metadata": {},
     "output_type": "display_data"
    },
    {
     "name": "stderr",
     "output_type": "stream",
     "text": [
      "/home/poi/proj/osuAi/hitNet/.env/lib/python3.10/site-packages/torch/nn/modules/loss.py:529: UserWarning: Using a target size (torch.Size([32, 1, 500])) that is different to the input size (torch.Size([32, 500, 1])). This will likely lead to incorrect results due to broadcasting. Please ensure they have the same size.\n",
      "  return F.mse_loss(input, target, reduction=self.reduction)\n",
      "/home/poi/proj/osuAi/hitNet/.env/lib/python3.10/site-packages/torch/nn/modules/loss.py:529: UserWarning: Using a target size (torch.Size([28, 1, 500])) that is different to the input size (torch.Size([28, 500, 1])). This will likely lead to incorrect results due to broadcasting. Please ensure they have the same size.\n",
      "  return F.mse_loss(input, target, reduction=self.reduction)\n"
     ]
    },
    {
     "name": "stdout",
     "output_type": "stream",
     "text": [
      "2 of 60\n",
      "TRAIN LOSS: 0.05973233171814197\n",
      "VAL LOSS: 0.061112237721681596\n"
     ]
    },
    {
     "name": "stderr",
     "output_type": "stream",
     "text": [
      "/home/poi/proj/osuAi/hitNet/.env/lib/python3.10/site-packages/torch/nn/modules/loss.py:529: UserWarning: Using a target size (torch.Size([7, 1, 500])) that is different to the input size (torch.Size([7, 500, 1])). This will likely lead to incorrect results due to broadcasting. Please ensure they have the same size.\n",
      "  return F.mse_loss(input, target, reduction=self.reduction)\n"
     ]
    },
    {
     "data": {
      "image/png": "[encoded data removed]",
      "text/plain": [
       "<Figure size 1440x72 with 1 Axes>"
      ]
     },
     "metadata": {
      "needs_background": "light"
     },
     "output_type": "display_data"
    },
    {
     "data": {
      "text/plain": [
       "\u001b[K\u001b[F \u001b[1mIters\u001b[0m    \u001b[1mElapsed Time\u001b[0m      \u001b[1mSpeed\u001b[0m     \u001b[1mloss\u001b[0m                                      \n",
       " \u001b[99m37/\u001b[93m37\u001b[0m\u001b[0m  \u001b[99m00:00:04<\u001b[93m00:00:00\u001b[0m\u001b[0m  \u001b[99m8.14it/s\u001b[0m  \u001b[99m0.0610\u001b[0m                                     "
      ]
     },
     "metadata": {},
     "output_type": "display_data"
    },
    {
     "data": {
      "application/vnd.jupyter.widget-view+json": {
       "model_id": "2fb1e95959094b8aa5553819f00262ac",
       "version_major": 2,
       "version_minor": 0
      },
      "text/plain": [
       "IpythonBar(children=(HTML(value='  0.0%'), FloatProgress(value=0.0)))"
      ]
     },
     "metadata": {},
     "output_type": "display_data"
    },
    {
     "name": "stderr",
     "output_type": "stream",
     "text": [
      "/home/poi/proj/osuAi/hitNet/.env/lib/python3.10/site-packages/torch/nn/modules/loss.py:529: UserWarning: Using a target size (torch.Size([32, 1, 500])) that is different to the input size (torch.Size([32, 500, 1])). This will likely lead to incorrect results due to broadcasting. Please ensure they have the same size.\n",
      "  return F.mse_loss(input, target, reduction=self.reduction)\n",
      "/home/poi/proj/osuAi/hitNet/.env/lib/python3.10/site-packages/torch/nn/modules/loss.py:529: UserWarning: Using a target size (torch.Size([28, 1, 500])) that is different to the input size (torch.Size([28, 500, 1])). This will likely lead to incorrect results due to broadcasting. Please ensure they have the same size.\n",
      "  return F.mse_loss(input, target, reduction=self.reduction)\n"
     ]
    },
    {
     "name": "stdout",
     "output_type": "stream",
     "text": [
      "3 of 60\n",
      "TRAIN LOSS: 0.05978010343136014\n",
      "VAL LOSS: 0.06096649505198002\n"
     ]
    },
    {
     "name": "stderr",
     "output_type": "stream",
     "text": [
      "/home/poi/proj/osuAi/hitNet/.env/lib/python3.10/site-packages/torch/nn/modules/loss.py:529: UserWarning: Using a target size (torch.Size([7, 1, 500])) that is different to the input size (torch.Size([7, 500, 1])). This will likely lead to incorrect results due to broadcasting. Please ensure they have the same size.\n",
      "  return F.mse_loss(input, target, reduction=self.reduction)\n"
     ]
    },
    {
     "data": {
      "image/png": "[encoded data removed]",
      "text/plain": [
       "<Figure size 1440x72 with 1 Axes>"
      ]
     },
     "metadata": {
      "needs_background": "light"
     },
     "output_type": "display_data"
    },
    {
     "data": {
      "text/plain": [
       "\u001b[K\u001b[F \u001b[1mIters\u001b[0m    \u001b[1mElapsed Time\u001b[0m      \u001b[1mSpeed\u001b[0m     \u001b[1mloss\u001b[0m                                      \n",
       " \u001b[99m37/\u001b[93m37\u001b[0m\u001b[0m  \u001b[99m00:00:04<\u001b[93m00:00:00\u001b[0m\u001b[0m  \u001b[99m8.11it/s\u001b[0m  \u001b[99m0.0582\u001b[0m                                     "
      ]
     },
     "metadata": {},
     "output_type": "display_data"
    },
    {
     "data": {
      "application/vnd.jupyter.widget-view+json": {
       "model_id": "15851944e60a4036b25f71255f570a40",
       "version_major": 2,
       "version_minor": 0
      },
      "text/plain": [
       "IpythonBar(children=(HTML(value='  0.0%'), FloatProgress(value=0.0)))"
      ]
     },
     "metadata": {},
     "output_type": "display_data"
    },
    {
     "name": "stderr",
     "output_type": "stream",
     "text": [
      "/home/poi/proj/osuAi/hitNet/.env/lib/python3.10/site-packages/torch/nn/modules/loss.py:529: UserWarning: Using a target size (torch.Size([32, 1, 500])) that is different to the input size (torch.Size([32, 500, 1])). This will likely lead to incorrect results due to broadcasting. Please ensure they have the same size.\n",
      "  return F.mse_loss(input, target, reduction=self.reduction)\n",
      "/home/poi/proj/osuAi/hitNet/.env/lib/python3.10/site-packages/torch/nn/modules/loss.py:529: UserWarning: Using a target size (torch.Size([28, 1, 500])) that is different to the input size (torch.Size([28, 500, 1])). This will likely lead to incorrect results due to broadcasting. Please ensure they have the same size.\n",
      "  return F.mse_loss(input, target, reduction=self.reduction)\n"
     ]
    },
    {
     "name": "stdout",
     "output_type": "stream",
     "text": [
      "4 of 60\n",
      "TRAIN LOSS: 0.059678624812010174\n",
      "VAL LOSS: 0.061131437122821805\n"
     ]
    },
    {
     "name": "stderr",
     "output_type": "stream",
     "text": [
      "/home/poi/proj/osuAi/hitNet/.env/lib/python3.10/site-packages/torch/nn/modules/loss.py:529: UserWarning: Using a target size (torch.Size([7, 1, 500])) that is different to the input size (torch.Size([7, 500, 1])). This will likely lead to incorrect results due to broadcasting. Please ensure they have the same size.\n",
      "  return F.mse_loss(input, target, reduction=self.reduction)\n"
     ]
    },
    {
     "data": {
      "image/png": "[encoded data removed]",
      "text/plain": [
       "<Figure size 1440x72 with 1 Axes>"
      ]
     },
     "metadata": {
      "needs_background": "light"
     },
     "output_type": "display_data"
    },
    {
     "data": {
      "text/plain": [
       "\u001b[K\u001b[F \u001b[1mIters\u001b[0m    \u001b[1mElapsed Time\u001b[0m      \u001b[1mSpeed\u001b[0m     \u001b[1mloss\u001b[0m                                      \n",
       " \u001b[99m37/\u001b[93m37\u001b[0m\u001b[0m  \u001b[99m00:00:04<\u001b[93m00:00:00\u001b[0m\u001b[0m  \u001b[99m7.82it/s\u001b[0m  \u001b[99m0.0560\u001b[0m                                     "
      ]
     },
     "metadata": {},
     "output_type": "display_data"
    },
    {
     "data": {
      "application/vnd.jupyter.widget-view+json": {
       "model_id": "46661008376343abb36ddc2fe0bb0ca8",
       "version_major": 2,
       "version_minor": 0
      },
      "text/plain": [
       "IpythonBar(children=(HTML(value='  0.0%'), FloatProgress(value=0.0)))"
      ]
     },
     "metadata": {},
     "output_type": "display_data"
    },
    {
     "name": "stderr",
     "output_type": "stream",
     "text": [
      "/home/poi/proj/osuAi/hitNet/.env/lib/python3.10/site-packages/torch/nn/modules/loss.py:529: UserWarning: Using a target size (torch.Size([32, 1, 500])) that is different to the input size (torch.Size([32, 500, 1])). This will likely lead to incorrect results due to broadcasting. Please ensure they have the same size.\n",
      "  return F.mse_loss(input, target, reduction=self.reduction)\n",
      "/home/poi/proj/osuAi/hitNet/.env/lib/python3.10/site-packages/torch/nn/modules/loss.py:529: UserWarning: Using a target size (torch.Size([28, 1, 500])) that is different to the input size (torch.Size([28, 500, 1])). This will likely lead to incorrect results due to broadcasting. Please ensure they have the same size.\n",
      "  return F.mse_loss(input, target, reduction=self.reduction)\n"
     ]
    },
    {
     "name": "stdout",
     "output_type": "stream",
     "text": [
      "5 of 60\n",
      "TRAIN LOSS: 0.059744658401689014\n",
      "VAL LOSS: 0.06109200045466423\n"
     ]
    },
    {
     "name": "stderr",
     "output_type": "stream",
     "text": [
      "/home/poi/proj/osuAi/hitNet/.env/lib/python3.10/site-packages/torch/nn/modules/loss.py:529: UserWarning: Using a target size (torch.Size([7, 1, 500])) that is different to the input size (torch.Size([7, 500, 1])). This will likely lead to incorrect results due to broadcasting. Please ensure they have the same size.\n",
      "  return F.mse_loss(input, target, reduction=self.reduction)\n"
     ]
    },
    {
     "data": {
      "image/png": "[encoded data removed]",
      "text/plain": [
       "<Figure size 1440x72 with 1 Axes>"
      ]
     },
     "metadata": {
      "needs_background": "light"
     },
     "output_type": "display_data"
    },
    {
     "data": {
      "text/plain": [
       "\u001b[K\u001b[F \u001b[1mIters\u001b[0m    \u001b[1mElapsed Time\u001b[0m      \u001b[1mSpeed\u001b[0m     \u001b[1mloss\u001b[0m                                      \n",
       " \u001b[99m37/\u001b[93m37\u001b[0m\u001b[0m  \u001b[99m00:00:04<\u001b[93m00:00:00\u001b[0m\u001b[0m  \u001b[99m8.06it/s\u001b[0m  \u001b[99m0.0587\u001b[0m                                     "
      ]
     },
     "metadata": {},
     "output_type": "display_data"
    },
    {
     "data": {
      "application/vnd.jupyter.widget-view+json": {
       "model_id": "18f5890ca9b64be1bd40797251ecb9a6",
       "version_major": 2,
       "version_minor": 0
      },
      "text/plain": [
       "IpythonBar(children=(HTML(value='  0.0%'), FloatProgress(value=0.0)))"
      ]
     },
     "metadata": {},
     "output_type": "display_data"
    },
    {
     "name": "stderr",
     "output_type": "stream",
     "text": [
      "/home/poi/proj/osuAi/hitNet/.env/lib/python3.10/site-packages/torch/nn/modules/loss.py:529: UserWarning: Using a target size (torch.Size([32, 1, 500])) that is different to the input size (torch.Size([32, 500, 1])). This will likely lead to incorrect results due to broadcasting. Please ensure they have the same size.\n",
      "  return F.mse_loss(input, target, reduction=self.reduction)\n",
      "/home/poi/proj/osuAi/hitNet/.env/lib/python3.10/site-packages/torch/nn/modules/loss.py:529: UserWarning: Using a target size (torch.Size([28, 1, 500])) that is different to the input size (torch.Size([28, 500, 1])). This will likely lead to incorrect results due to broadcasting. Please ensure they have the same size.\n",
      "  return F.mse_loss(input, target, reduction=self.reduction)\n"
     ]
    },
    {
     "name": "stdout",
     "output_type": "stream",
     "text": [
      "6 of 60\n",
      "TRAIN LOSS: 0.05969701797978298\n",
      "VAL LOSS: 0.06129000186920166\n"
     ]
    },
    {
     "name": "stderr",
     "output_type": "stream",
     "text": [
      "/home/poi/proj/osuAi/hitNet/.env/lib/python3.10/site-packages/torch/nn/modules/loss.py:529: UserWarning: Using a target size (torch.Size([7, 1, 500])) that is different to the input size (torch.Size([7, 500, 1])). This will likely lead to incorrect results due to broadcasting. Please ensure they have the same size.\n",
      "  return F.mse_loss(input, target, reduction=self.reduction)\n"
     ]
    },
    {
     "data": {
      "image/png": "[encoded data removed]",
      "text/plain": [
       "<Figure size 1440x72 with 1 Axes>"
      ]
     },
     "metadata": {
      "needs_background": "light"
     },
     "output_type": "display_data"
    },
    {
     "data": {
      "text/plain": [
       "\u001b[K\u001b[F \u001b[1mIters\u001b[0m    \u001b[1mElapsed Time\u001b[0m      \u001b[1mSpeed\u001b[0m     \u001b[1mloss\u001b[0m                                      \n",
       " \u001b[99m12/\u001b[93m37\u001b[0m\u001b[0m  \u001b[99m00:00:01<\u001b[93m00:00:03\u001b[0m\u001b[0m  \u001b[99m7.79it/s\u001b[0m  \u001b[99m0.0617\u001b[0m                                     "
      ]
     },
     "metadata": {},
     "output_type": "display_data"
    },
    {
     "data": {
      "application/vnd.jupyter.widget-view+json": {
       "model_id": "1b2c96849039411c8e61640e8e6fb1e4",
       "version_major": 2,
       "version_minor": 0
      },
      "text/plain": [
       "IpythonBar(children=(HTML(value='  0.0%'), FloatProgress(value=0.0)))"
      ]
     },
     "metadata": {},
     "output_type": "display_data"
    },
    {
     "name": "stderr",
     "output_type": "stream",
     "text": [
      "/home/poi/proj/osuAi/hitNet/.env/lib/python3.10/site-packages/torch/nn/modules/loss.py:529: UserWarning: Using a target size (torch.Size([32, 1, 500])) that is different to the input size (torch.Size([32, 500, 1])). This will likely lead to incorrect results due to broadcasting. Please ensure they have the same size.\n",
      "  return F.mse_loss(input, target, reduction=self.reduction)\n"
     ]
    },
    {
     "ename": "KeyboardInterrupt",
     "evalue": "",
     "output_type": "error",
     "traceback": [
      "\u001b[0;31m---------------------------------------------------------------------------\u001b[0m",
      "\u001b[0;31mKeyboardInterrupt\u001b[0m                         Traceback (most recent call last)",
      "Input \u001b[0;32mIn [43]\u001b[0m, in \u001b[0;36m<cell line: 4>\u001b[0;34m()\u001b[0m\n\u001b[1;32m      1\u001b[0m plt\u001b[38;5;241m.\u001b[39mrcParams[\u001b[38;5;124m\"\u001b[39m\u001b[38;5;124mfigure.figsize\u001b[39m\u001b[38;5;124m\"\u001b[39m] \u001b[38;5;241m=\u001b[39m (\u001b[38;5;241m20\u001b[39m,\u001b[38;5;241m1\u001b[39m)\n\u001b[1;32m      2\u001b[0m start \u001b[38;5;241m=\u001b[39m time\u001b[38;5;241m.\u001b[39mtime()\n\u001b[0;32m----> 4\u001b[0m \u001b[43mtrain\u001b[49m\u001b[43m(\u001b[49m\u001b[43m)\u001b[49m\n\u001b[1;32m      6\u001b[0m end \u001b[38;5;241m=\u001b[39m time\u001b[38;5;241m.\u001b[39mtime()\n\u001b[1;32m      7\u001b[0m \u001b[38;5;28mprint\u001b[39m(end \u001b[38;5;241m-\u001b[39m start, \u001b[38;5;124m'\u001b[39m\u001b[38;5;124msecs\u001b[39m\u001b[38;5;124m'\u001b[39m)\n",
      "Input \u001b[0;32mIn [42]\u001b[0m, in \u001b[0;36mtrain\u001b[0;34m()\u001b[0m\n\u001b[1;32m     18\u001b[0m     Y[i][\u001b[38;5;241m0\u001b[39m:l] \u001b[38;5;241m=\u001b[39m torch\u001b[38;5;241m.\u001b[39mtensor([\u001b[38;5;241m0\u001b[39m \u001b[38;5;241m*\u001b[39m (dim_out)] \u001b[38;5;241m*\u001b[39m l)\n\u001b[1;32m     20\u001b[0m loss \u001b[38;5;241m=\u001b[39m criterion(O[:,:,\u001b[38;5;241m0\u001b[39m:(dim_out)], Y\u001b[38;5;241m.\u001b[39munsqueeze(\u001b[38;5;241m1\u001b[39m))\n\u001b[0;32m---> 21\u001b[0m \u001b[43mloss\u001b[49m\u001b[38;5;241;43m.\u001b[39;49m\u001b[43mbackward\u001b[49m\u001b[43m(\u001b[49m\u001b[43m)\u001b[49m\n\u001b[1;32m     22\u001b[0m optimizer\u001b[38;5;241m.\u001b[39mstep()\n\u001b[1;32m     24\u001b[0m \u001b[38;5;66;03m#print(loss.item())        \u001b[39;00m\n",
      "File \u001b[0;32m~/proj/osuAi/hitNet/.env/lib/python3.10/site-packages/torch/_tensor.py:363\u001b[0m, in \u001b[0;36mTensor.backward\u001b[0;34m(self, gradient, retain_graph, create_graph, inputs)\u001b[0m\n\u001b[1;32m    354\u001b[0m \u001b[38;5;28;01mif\u001b[39;00m has_torch_function_unary(\u001b[38;5;28mself\u001b[39m):\n\u001b[1;32m    355\u001b[0m     \u001b[38;5;28;01mreturn\u001b[39;00m handle_torch_function(\n\u001b[1;32m    356\u001b[0m         Tensor\u001b[38;5;241m.\u001b[39mbackward,\n\u001b[1;32m    357\u001b[0m         (\u001b[38;5;28mself\u001b[39m,),\n\u001b[0;32m   (...)\u001b[0m\n\u001b[1;32m    361\u001b[0m         create_graph\u001b[38;5;241m=\u001b[39mcreate_graph,\n\u001b[1;32m    362\u001b[0m         inputs\u001b[38;5;241m=\u001b[39minputs)\n\u001b[0;32m--> 363\u001b[0m \u001b[43mtorch\u001b[49m\u001b[38;5;241;43m.\u001b[39;49m\u001b[43mautograd\u001b[49m\u001b[38;5;241;43m.\u001b[39;49m\u001b[43mbackward\u001b[49m\u001b[43m(\u001b[49m\u001b[38;5;28;43mself\u001b[39;49m\u001b[43m,\u001b[49m\u001b[43m \u001b[49m\u001b[43mgradient\u001b[49m\u001b[43m,\u001b[49m\u001b[43m \u001b[49m\u001b[43mretain_graph\u001b[49m\u001b[43m,\u001b[49m\u001b[43m \u001b[49m\u001b[43mcreate_graph\u001b[49m\u001b[43m,\u001b[49m\u001b[43m \u001b[49m\u001b[43minputs\u001b[49m\u001b[38;5;241;43m=\u001b[39;49m\u001b[43minputs\u001b[49m\u001b[43m)\u001b[49m\n",
      "File \u001b[0;32m~/proj/osuAi/hitNet/.env/lib/python3.10/site-packages/torch/autograd/__init__.py:173\u001b[0m, in \u001b[0;36mbackward\u001b[0;34m(tensors, grad_tensors, retain_graph, create_graph, grad_variables, inputs)\u001b[0m\n\u001b[1;32m    168\u001b[0m     retain_graph \u001b[38;5;241m=\u001b[39m create_graph\n\u001b[1;32m    170\u001b[0m \u001b[38;5;66;03m# The reason we repeat same the comment below is that\u001b[39;00m\n\u001b[1;32m    171\u001b[0m \u001b[38;5;66;03m# some Python versions print out the first line of a multi-line function\u001b[39;00m\n\u001b[1;32m    172\u001b[0m \u001b[38;5;66;03m# calls in the traceback and some print out the last line\u001b[39;00m\n\u001b[0;32m--> 173\u001b[0m \u001b[43mVariable\u001b[49m\u001b[38;5;241;43m.\u001b[39;49m\u001b[43m_execution_engine\u001b[49m\u001b[38;5;241;43m.\u001b[39;49m\u001b[43mrun_backward\u001b[49m\u001b[43m(\u001b[49m\u001b[43m  \u001b[49m\u001b[38;5;66;43;03m# Calls into the C++ engine to run the backward pass\u001b[39;49;00m\n\u001b[1;32m    174\u001b[0m \u001b[43m    \u001b[49m\u001b[43mtensors\u001b[49m\u001b[43m,\u001b[49m\u001b[43m \u001b[49m\u001b[43mgrad_tensors_\u001b[49m\u001b[43m,\u001b[49m\u001b[43m \u001b[49m\u001b[43mretain_graph\u001b[49m\u001b[43m,\u001b[49m\u001b[43m \u001b[49m\u001b[43mcreate_graph\u001b[49m\u001b[43m,\u001b[49m\u001b[43m \u001b[49m\u001b[43minputs\u001b[49m\u001b[43m,\u001b[49m\n\u001b[1;32m    175\u001b[0m \u001b[43m    \u001b[49m\u001b[43mallow_unreachable\u001b[49m\u001b[38;5;241;43m=\u001b[39;49m\u001b[38;5;28;43;01mTrue\u001b[39;49;00m\u001b[43m,\u001b[49m\u001b[43m \u001b[49m\u001b[43maccumulate_grad\u001b[49m\u001b[38;5;241;43m=\u001b[39;49m\u001b[38;5;28;43;01mTrue\u001b[39;49;00m\u001b[43m)\u001b[49m\n",
      "\u001b[0;31mKeyboardInterrupt\u001b[0m: "
     ]
    }
   ],
   "source": [
    "plt.rcParams[\"figure.figsize\"] = (20,1)\n",
    "start = time.time()\n",
    "\n",
    "train()\n",
    "\n",
    "end = time.time()\n",
    "print(end - start, 'secs')"
   ]
  },
  {
   "cell_type": "code",
   "execution_count": null,
   "id": "5e69e5b7-2030-46d8-99ae-f9dc68f24bbf",
   "metadata": {},
   "outputs": [],
   "source": [
    "plt.rcParams[\"figure.figsize\"] = (20,1)\n",
    "start = time.time()\n",
    "\n",
    "train()\n",
    "\n",
    "end = time.time()\n",
    "print(end - start, 'secs')"
   ]
  },
  {
   "cell_type": "code",
   "execution_count": null,
   "id": "6d779e36-4616-4942-9400-6122ded55cae",
   "metadata": {},
   "outputs": [
    {
     "name": "stderr",
     "output_type": "stream",
     "text": [
      "Traceback (most recent call last):\n",
      "  File \"/tmp/ipykernel_20633/3035762184.py\", line 40, in process\n",
      "    self.y[i] = copy.deepcopy(m.get_beats())\n",
      "  File \"/tmp/ipykernel_20633/387084890.py\", line 202, in get_beats\n",
      "    self.process_beats()\n",
      "  File \"/tmp/ipykernel_20633/387084890.py\", line 187, in process_beats\n",
      "    self.create_peak(self.beats, x)\n",
      "  File \"/tmp/ipykernel_20633/387084890.py\", line 118, in create_gaussian_peak\n",
      "    y[i+j] = max(y[i+j], f, 0)\n",
      "IndexError: index 15863 is out of bounds for axis 0 with size 15850\n"
     ]
    },
    {
     "name": "stdout",
     "output_type": "stream",
     "text": [
      "pruning: Hatsuki Yura - Kowaku no Mori (mama2093) [Dance].osu\n"
     ]
    },
    {
     "name": "stderr",
     "output_type": "stream",
     "text": [
      "Traceback (most recent call last):\n",
      "  File \"/tmp/ipykernel_20633/3035762184.py\", line 40, in process\n",
      "    self.y[i] = copy.deepcopy(m.get_beats())\n",
      "  File \"/tmp/ipykernel_20633/387084890.py\", line 202, in get_beats\n",
      "    self.process_beats()\n",
      "  File \"/tmp/ipykernel_20633/387084890.py\", line 176, in process_beats\n",
      "    self.create_peak(self.beats, x)\n",
      "  File \"/tmp/ipykernel_20633/387084890.py\", line 118, in create_gaussian_peak\n",
      "    y[i+j] = max(y[i+j], f, 0)\n",
      "IndexError: index 12646 is out of bounds for axis 0 with size 12646\n"
     ]
    },
    {
     "name": "stdout",
     "output_type": "stream",
     "text": [
      "pruning: Hatsune Miku - World is Mine (tom800510) [Queen!!].osu\n"
     ]
    },
    {
     "name": "stderr",
     "output_type": "stream",
     "text": [
      "Traceback (most recent call last):\n",
      "  File \"/tmp/ipykernel_20633/3035762184.py\", line 40, in process\n",
      "    self.y[i] = copy.deepcopy(m.get_beats())\n",
      "  File \"/tmp/ipykernel_20633/387084890.py\", line 202, in get_beats\n",
      "    self.process_beats()\n",
      "  File \"/tmp/ipykernel_20633/387084890.py\", line 176, in process_beats\n",
      "    self.create_peak(self.beats, x)\n",
      "  File \"/tmp/ipykernel_20633/387084890.py\", line 118, in create_gaussian_peak\n",
      "    y[i+j] = max(y[i+j], f, 0)\n",
      "IndexError: index 9546 is out of bounds for axis 0 with size 9546\n"
     ]
    },
    {
     "name": "stdout",
     "output_type": "stream",
     "text": [
      "pruning: Hanataba - Night of Knights (v2b) [Normal].osu\n"
     ]
    },
    {
     "name": "stderr",
     "output_type": "stream",
     "text": [
      "Traceback (most recent call last):\n",
      "  File \"/tmp/ipykernel_20633/3035762184.py\", line 40, in process\n",
      "    self.y[i] = copy.deepcopy(m.get_beats())\n",
      "  File \"/tmp/ipykernel_20633/387084890.py\", line 202, in get_beats\n",
      "    self.process_beats()\n",
      "  File \"/tmp/ipykernel_20633/387084890.py\", line 187, in process_beats\n",
      "    self.create_peak(self.beats, x)\n",
      "  File \"/tmp/ipykernel_20633/387084890.py\", line 118, in create_gaussian_peak\n",
      "    y[i+j] = max(y[i+j], f, 0)\n",
      "IndexError: index 7829 is out of bounds for axis 0 with size 7829\n"
     ]
    },
    {
     "name": "stdout",
     "output_type": "stream",
     "text": [
      "pruning: Warak - REANIMATE (iyasine) [xsrs's Extra].osu\n"
     ]
    }
   ],
   "source": [
    "torch.save(model.state_dict(), model_path)"
   ]
  },
  {
   "cell_type": "code",
   "execution_count": 23,
   "id": "daa93c35-596b-4a9c-bd7d-64ee9c9656b9",
   "metadata": {},
   "outputs": [
    {
     "data": {
      "text/plain": [
       "<All keys matched successfully>"
      ]
     },
     "execution_count": 23,
     "metadata": {},
     "output_type": "execute_result"
    }
   ],
   "source": [
    "model.load_state_dict(torch.load(model_path))"
   ]
  },
  {
   "cell_type": "code",
   "execution_count": null,
   "id": "546505da-32a3-404b-b6bb-8815b7e10def",
   "metadata": {},
   "outputs": [],
   "source": []
  }
 ],
 "metadata": {
  "kernelspec": {
   "display_name": "Python 3 (ipykernel)",
   "language": "python",
   "name": "python3"
  },
  "language_info": {
   "codemirror_mode": {
    "name": "ipython",
    "version": 3
   },
   "file_extension": ".py",
   "mimetype": "text/x-python",
   "name": "python",
   "nbconvert_exporter": "python",
   "pygments_lexer": "ipython3",
   "version": "3.10.4"
  }
 },
 "nbformat": 4,
 "nbformat_minor": 5
}
